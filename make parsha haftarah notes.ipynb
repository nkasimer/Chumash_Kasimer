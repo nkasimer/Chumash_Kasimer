{
 "cells": [
  {
   "cell_type": "code",
   "execution_count": 2,
   "metadata": {},
   "outputs": [],
   "source": [
    "import json, urllib, csv"
   ]
  },
  {
   "cell_type": "code",
   "execution_count": 14,
   "metadata": {},
   "outputs": [
    {
     "ename": "KeyboardInterrupt",
     "evalue": "",
     "output_type": "error",
     "traceback": [
      "\u001b[1;31m---------------------------------------------------------------------------\u001b[0m",
      "\u001b[1;31mTimeoutError\u001b[0m                              Traceback (most recent call last)",
      "\u001b[1;32m~\\AppData\\Local\\Continuum\\anaconda3\\lib\\socket.py\u001b[0m in \u001b[0;36mcreate_connection\u001b[1;34m(address, timeout, source_address)\u001b[0m\n\u001b[0;32m    715\u001b[0m                 \u001b[0msock\u001b[0m\u001b[1;33m.\u001b[0m\u001b[0mbind\u001b[0m\u001b[1;33m(\u001b[0m\u001b[0msource_address\u001b[0m\u001b[1;33m)\u001b[0m\u001b[1;33m\u001b[0m\u001b[1;33m\u001b[0m\u001b[0m\n\u001b[1;32m--> 716\u001b[1;33m             \u001b[0msock\u001b[0m\u001b[1;33m.\u001b[0m\u001b[0mconnect\u001b[0m\u001b[1;33m(\u001b[0m\u001b[0msa\u001b[0m\u001b[1;33m)\u001b[0m\u001b[1;33m\u001b[0m\u001b[1;33m\u001b[0m\u001b[0m\n\u001b[0m\u001b[0;32m    717\u001b[0m             \u001b[1;31m# Break explicitly a reference cycle\u001b[0m\u001b[1;33m\u001b[0m\u001b[1;33m\u001b[0m\u001b[1;33m\u001b[0m\u001b[0m\n",
      "\u001b[1;31mTimeoutError\u001b[0m: [WinError 10060] A connection attempt failed because the connected party did not properly respond after a period of time, or established connection failed because connected host has failed to respond",
      "\nDuring handling of the above exception, another exception occurred:\n",
      "\u001b[1;31mKeyboardInterrupt\u001b[0m                         Traceback (most recent call last)",
      "\u001b[1;32m<ipython-input-14-a3aac1449af3>\u001b[0m in \u001b[0;36m<module>\u001b[1;34m\u001b[0m\n\u001b[1;32m----> 1\u001b[1;33m \u001b[1;32mwith\u001b[0m \u001b[0murllib\u001b[0m\u001b[1;33m.\u001b[0m\u001b[0mrequest\u001b[0m\u001b[1;33m.\u001b[0m\u001b[0murlopen\u001b[0m\u001b[1;33m(\u001b[0m\u001b[1;34m\"https://raw.githubusercontent.com/hebcal/hebcal-leyning/master/src/aliyot.json\"\u001b[0m\u001b[1;33m)\u001b[0m \u001b[1;32mas\u001b[0m \u001b[0murl\u001b[0m\u001b[1;33m:\u001b[0m\u001b[1;33m\u001b[0m\u001b[1;33m\u001b[0m\u001b[0m\n\u001b[0m\u001b[0;32m      2\u001b[0m     \u001b[0maliyot\u001b[0m \u001b[1;33m=\u001b[0m \u001b[0mjson\u001b[0m\u001b[1;33m.\u001b[0m\u001b[0mloads\u001b[0m\u001b[1;33m(\u001b[0m\u001b[0murl\u001b[0m\u001b[1;33m.\u001b[0m\u001b[0mread\u001b[0m\u001b[1;33m(\u001b[0m\u001b[1;33m)\u001b[0m\u001b[1;33m.\u001b[0m\u001b[0mdecode\u001b[0m\u001b[1;33m(\u001b[0m\u001b[1;33m)\u001b[0m\u001b[1;33m)\u001b[0m\u001b[1;33m\u001b[0m\u001b[1;33m\u001b[0m\u001b[0m\n\u001b[0;32m      3\u001b[0m \u001b[1;32mwith\u001b[0m \u001b[0murllib\u001b[0m\u001b[1;33m.\u001b[0m\u001b[0mrequest\u001b[0m\u001b[1;33m.\u001b[0m\u001b[0murlopen\u001b[0m\u001b[1;33m(\u001b[0m\u001b[1;34m\"https://raw.githubusercontent.com/hebcal/hebcal-leyning/main/src/numverses.json\"\u001b[0m\u001b[1;33m)\u001b[0m \u001b[1;32mas\u001b[0m \u001b[0murl\u001b[0m\u001b[1;33m:\u001b[0m\u001b[1;33m\u001b[0m\u001b[1;33m\u001b[0m\u001b[0m\n\u001b[0;32m      4\u001b[0m     \u001b[0mnum_verses\u001b[0m \u001b[1;33m=\u001b[0m \u001b[0mjson\u001b[0m\u001b[1;33m.\u001b[0m\u001b[0mloads\u001b[0m\u001b[1;33m(\u001b[0m\u001b[0murl\u001b[0m\u001b[1;33m.\u001b[0m\u001b[0mread\u001b[0m\u001b[1;33m(\u001b[0m\u001b[1;33m)\u001b[0m\u001b[1;33m.\u001b[0m\u001b[0mdecode\u001b[0m\u001b[1;33m(\u001b[0m\u001b[1;33m)\u001b[0m\u001b[1;33m)\u001b[0m\u001b[1;33m\u001b[0m\u001b[1;33m\u001b[0m\u001b[0m\n",
      "\u001b[1;32m~\\AppData\\Local\\Continuum\\anaconda3\\lib\\urllib\\request.py\u001b[0m in \u001b[0;36murlopen\u001b[1;34m(url, data, timeout, cafile, capath, cadefault, context)\u001b[0m\n\u001b[0;32m    220\u001b[0m     \u001b[1;32melse\u001b[0m\u001b[1;33m:\u001b[0m\u001b[1;33m\u001b[0m\u001b[1;33m\u001b[0m\u001b[0m\n\u001b[0;32m    221\u001b[0m         \u001b[0mopener\u001b[0m \u001b[1;33m=\u001b[0m \u001b[0m_opener\u001b[0m\u001b[1;33m\u001b[0m\u001b[1;33m\u001b[0m\u001b[0m\n\u001b[1;32m--> 222\u001b[1;33m     \u001b[1;32mreturn\u001b[0m \u001b[0mopener\u001b[0m\u001b[1;33m.\u001b[0m\u001b[0mopen\u001b[0m\u001b[1;33m(\u001b[0m\u001b[0murl\u001b[0m\u001b[1;33m,\u001b[0m \u001b[0mdata\u001b[0m\u001b[1;33m,\u001b[0m \u001b[0mtimeout\u001b[0m\u001b[1;33m)\u001b[0m\u001b[1;33m\u001b[0m\u001b[1;33m\u001b[0m\u001b[0m\n\u001b[0m\u001b[0;32m    223\u001b[0m \u001b[1;33m\u001b[0m\u001b[0m\n\u001b[0;32m    224\u001b[0m \u001b[1;32mdef\u001b[0m \u001b[0minstall_opener\u001b[0m\u001b[1;33m(\u001b[0m\u001b[0mopener\u001b[0m\u001b[1;33m)\u001b[0m\u001b[1;33m:\u001b[0m\u001b[1;33m\u001b[0m\u001b[1;33m\u001b[0m\u001b[0m\n",
      "\u001b[1;32m~\\AppData\\Local\\Continuum\\anaconda3\\lib\\urllib\\request.py\u001b[0m in \u001b[0;36mopen\u001b[1;34m(self, fullurl, data, timeout)\u001b[0m\n\u001b[0;32m    523\u001b[0m             \u001b[0mreq\u001b[0m \u001b[1;33m=\u001b[0m \u001b[0mmeth\u001b[0m\u001b[1;33m(\u001b[0m\u001b[0mreq\u001b[0m\u001b[1;33m)\u001b[0m\u001b[1;33m\u001b[0m\u001b[1;33m\u001b[0m\u001b[0m\n\u001b[0;32m    524\u001b[0m \u001b[1;33m\u001b[0m\u001b[0m\n\u001b[1;32m--> 525\u001b[1;33m         \u001b[0mresponse\u001b[0m \u001b[1;33m=\u001b[0m \u001b[0mself\u001b[0m\u001b[1;33m.\u001b[0m\u001b[0m_open\u001b[0m\u001b[1;33m(\u001b[0m\u001b[0mreq\u001b[0m\u001b[1;33m,\u001b[0m \u001b[0mdata\u001b[0m\u001b[1;33m)\u001b[0m\u001b[1;33m\u001b[0m\u001b[1;33m\u001b[0m\u001b[0m\n\u001b[0m\u001b[0;32m    526\u001b[0m \u001b[1;33m\u001b[0m\u001b[0m\n\u001b[0;32m    527\u001b[0m         \u001b[1;31m# post-process response\u001b[0m\u001b[1;33m\u001b[0m\u001b[1;33m\u001b[0m\u001b[1;33m\u001b[0m\u001b[0m\n",
      "\u001b[1;32m~\\AppData\\Local\\Continuum\\anaconda3\\lib\\urllib\\request.py\u001b[0m in \u001b[0;36m_open\u001b[1;34m(self, req, data)\u001b[0m\n\u001b[0;32m    541\u001b[0m         \u001b[0mprotocol\u001b[0m \u001b[1;33m=\u001b[0m \u001b[0mreq\u001b[0m\u001b[1;33m.\u001b[0m\u001b[0mtype\u001b[0m\u001b[1;33m\u001b[0m\u001b[1;33m\u001b[0m\u001b[0m\n\u001b[0;32m    542\u001b[0m         result = self._call_chain(self.handle_open, protocol, protocol +\n\u001b[1;32m--> 543\u001b[1;33m                                   '_open', req)\n\u001b[0m\u001b[0;32m    544\u001b[0m         \u001b[1;32mif\u001b[0m \u001b[0mresult\u001b[0m\u001b[1;33m:\u001b[0m\u001b[1;33m\u001b[0m\u001b[1;33m\u001b[0m\u001b[0m\n\u001b[0;32m    545\u001b[0m             \u001b[1;32mreturn\u001b[0m \u001b[0mresult\u001b[0m\u001b[1;33m\u001b[0m\u001b[1;33m\u001b[0m\u001b[0m\n",
      "\u001b[1;32m~\\AppData\\Local\\Continuum\\anaconda3\\lib\\urllib\\request.py\u001b[0m in \u001b[0;36m_call_chain\u001b[1;34m(self, chain, kind, meth_name, *args)\u001b[0m\n\u001b[0;32m    501\u001b[0m         \u001b[1;32mfor\u001b[0m \u001b[0mhandler\u001b[0m \u001b[1;32min\u001b[0m \u001b[0mhandlers\u001b[0m\u001b[1;33m:\u001b[0m\u001b[1;33m\u001b[0m\u001b[1;33m\u001b[0m\u001b[0m\n\u001b[0;32m    502\u001b[0m             \u001b[0mfunc\u001b[0m \u001b[1;33m=\u001b[0m \u001b[0mgetattr\u001b[0m\u001b[1;33m(\u001b[0m\u001b[0mhandler\u001b[0m\u001b[1;33m,\u001b[0m \u001b[0mmeth_name\u001b[0m\u001b[1;33m)\u001b[0m\u001b[1;33m\u001b[0m\u001b[1;33m\u001b[0m\u001b[0m\n\u001b[1;32m--> 503\u001b[1;33m             \u001b[0mresult\u001b[0m \u001b[1;33m=\u001b[0m \u001b[0mfunc\u001b[0m\u001b[1;33m(\u001b[0m\u001b[1;33m*\u001b[0m\u001b[0margs\u001b[0m\u001b[1;33m)\u001b[0m\u001b[1;33m\u001b[0m\u001b[1;33m\u001b[0m\u001b[0m\n\u001b[0m\u001b[0;32m    504\u001b[0m             \u001b[1;32mif\u001b[0m \u001b[0mresult\u001b[0m \u001b[1;32mis\u001b[0m \u001b[1;32mnot\u001b[0m \u001b[1;32mNone\u001b[0m\u001b[1;33m:\u001b[0m\u001b[1;33m\u001b[0m\u001b[1;33m\u001b[0m\u001b[0m\n\u001b[0;32m    505\u001b[0m                 \u001b[1;32mreturn\u001b[0m \u001b[0mresult\u001b[0m\u001b[1;33m\u001b[0m\u001b[1;33m\u001b[0m\u001b[0m\n",
      "\u001b[1;32m~\\AppData\\Local\\Continuum\\anaconda3\\lib\\urllib\\request.py\u001b[0m in \u001b[0;36mhttps_open\u001b[1;34m(self, req)\u001b[0m\n\u001b[0;32m   1358\u001b[0m         \u001b[1;32mdef\u001b[0m \u001b[0mhttps_open\u001b[0m\u001b[1;33m(\u001b[0m\u001b[0mself\u001b[0m\u001b[1;33m,\u001b[0m \u001b[0mreq\u001b[0m\u001b[1;33m)\u001b[0m\u001b[1;33m:\u001b[0m\u001b[1;33m\u001b[0m\u001b[1;33m\u001b[0m\u001b[0m\n\u001b[0;32m   1359\u001b[0m             return self.do_open(http.client.HTTPSConnection, req,\n\u001b[1;32m-> 1360\u001b[1;33m                 context=self._context, check_hostname=self._check_hostname)\n\u001b[0m\u001b[0;32m   1361\u001b[0m \u001b[1;33m\u001b[0m\u001b[0m\n\u001b[0;32m   1362\u001b[0m         \u001b[0mhttps_request\u001b[0m \u001b[1;33m=\u001b[0m \u001b[0mAbstractHTTPHandler\u001b[0m\u001b[1;33m.\u001b[0m\u001b[0mdo_request_\u001b[0m\u001b[1;33m\u001b[0m\u001b[1;33m\u001b[0m\u001b[0m\n",
      "\u001b[1;32m~\\AppData\\Local\\Continuum\\anaconda3\\lib\\urllib\\request.py\u001b[0m in \u001b[0;36mdo_open\u001b[1;34m(self, http_class, req, **http_conn_args)\u001b[0m\n\u001b[0;32m   1315\u001b[0m             \u001b[1;32mtry\u001b[0m\u001b[1;33m:\u001b[0m\u001b[1;33m\u001b[0m\u001b[1;33m\u001b[0m\u001b[0m\n\u001b[0;32m   1316\u001b[0m                 h.request(req.get_method(), req.selector, req.data, headers,\n\u001b[1;32m-> 1317\u001b[1;33m                           encode_chunked=req.has_header('Transfer-encoding'))\n\u001b[0m\u001b[0;32m   1318\u001b[0m             \u001b[1;32mexcept\u001b[0m \u001b[0mOSError\u001b[0m \u001b[1;32mas\u001b[0m \u001b[0merr\u001b[0m\u001b[1;33m:\u001b[0m \u001b[1;31m# timeout error\u001b[0m\u001b[1;33m\u001b[0m\u001b[1;33m\u001b[0m\u001b[0m\n\u001b[0;32m   1319\u001b[0m                 \u001b[1;32mraise\u001b[0m \u001b[0mURLError\u001b[0m\u001b[1;33m(\u001b[0m\u001b[0merr\u001b[0m\u001b[1;33m)\u001b[0m\u001b[1;33m\u001b[0m\u001b[1;33m\u001b[0m\u001b[0m\n",
      "\u001b[1;32m~\\AppData\\Local\\Continuum\\anaconda3\\lib\\http\\client.py\u001b[0m in \u001b[0;36mrequest\u001b[1;34m(self, method, url, body, headers, encode_chunked)\u001b[0m\n\u001b[0;32m   1242\u001b[0m                 encode_chunked=False):\n\u001b[0;32m   1243\u001b[0m         \u001b[1;34m\"\"\"Send a complete request to the server.\"\"\"\u001b[0m\u001b[1;33m\u001b[0m\u001b[1;33m\u001b[0m\u001b[0m\n\u001b[1;32m-> 1244\u001b[1;33m         \u001b[0mself\u001b[0m\u001b[1;33m.\u001b[0m\u001b[0m_send_request\u001b[0m\u001b[1;33m(\u001b[0m\u001b[0mmethod\u001b[0m\u001b[1;33m,\u001b[0m \u001b[0murl\u001b[0m\u001b[1;33m,\u001b[0m \u001b[0mbody\u001b[0m\u001b[1;33m,\u001b[0m \u001b[0mheaders\u001b[0m\u001b[1;33m,\u001b[0m \u001b[0mencode_chunked\u001b[0m\u001b[1;33m)\u001b[0m\u001b[1;33m\u001b[0m\u001b[1;33m\u001b[0m\u001b[0m\n\u001b[0m\u001b[0;32m   1245\u001b[0m \u001b[1;33m\u001b[0m\u001b[0m\n\u001b[0;32m   1246\u001b[0m     \u001b[1;32mdef\u001b[0m \u001b[0m_send_request\u001b[0m\u001b[1;33m(\u001b[0m\u001b[0mself\u001b[0m\u001b[1;33m,\u001b[0m \u001b[0mmethod\u001b[0m\u001b[1;33m,\u001b[0m \u001b[0murl\u001b[0m\u001b[1;33m,\u001b[0m \u001b[0mbody\u001b[0m\u001b[1;33m,\u001b[0m \u001b[0mheaders\u001b[0m\u001b[1;33m,\u001b[0m \u001b[0mencode_chunked\u001b[0m\u001b[1;33m)\u001b[0m\u001b[1;33m:\u001b[0m\u001b[1;33m\u001b[0m\u001b[1;33m\u001b[0m\u001b[0m\n",
      "\u001b[1;32m~\\AppData\\Local\\Continuum\\anaconda3\\lib\\http\\client.py\u001b[0m in \u001b[0;36m_send_request\u001b[1;34m(self, method, url, body, headers, encode_chunked)\u001b[0m\n\u001b[0;32m   1288\u001b[0m             \u001b[1;31m# default charset of iso-8859-1.\u001b[0m\u001b[1;33m\u001b[0m\u001b[1;33m\u001b[0m\u001b[1;33m\u001b[0m\u001b[0m\n\u001b[0;32m   1289\u001b[0m             \u001b[0mbody\u001b[0m \u001b[1;33m=\u001b[0m \u001b[0m_encode\u001b[0m\u001b[1;33m(\u001b[0m\u001b[0mbody\u001b[0m\u001b[1;33m,\u001b[0m \u001b[1;34m'body'\u001b[0m\u001b[1;33m)\u001b[0m\u001b[1;33m\u001b[0m\u001b[1;33m\u001b[0m\u001b[0m\n\u001b[1;32m-> 1290\u001b[1;33m         \u001b[0mself\u001b[0m\u001b[1;33m.\u001b[0m\u001b[0mendheaders\u001b[0m\u001b[1;33m(\u001b[0m\u001b[0mbody\u001b[0m\u001b[1;33m,\u001b[0m \u001b[0mencode_chunked\u001b[0m\u001b[1;33m=\u001b[0m\u001b[0mencode_chunked\u001b[0m\u001b[1;33m)\u001b[0m\u001b[1;33m\u001b[0m\u001b[1;33m\u001b[0m\u001b[0m\n\u001b[0m\u001b[0;32m   1291\u001b[0m \u001b[1;33m\u001b[0m\u001b[0m\n\u001b[0;32m   1292\u001b[0m     \u001b[1;32mdef\u001b[0m \u001b[0mgetresponse\u001b[0m\u001b[1;33m(\u001b[0m\u001b[0mself\u001b[0m\u001b[1;33m)\u001b[0m\u001b[1;33m:\u001b[0m\u001b[1;33m\u001b[0m\u001b[1;33m\u001b[0m\u001b[0m\n",
      "\u001b[1;32m~\\AppData\\Local\\Continuum\\anaconda3\\lib\\http\\client.py\u001b[0m in \u001b[0;36mendheaders\u001b[1;34m(self, message_body, encode_chunked)\u001b[0m\n\u001b[0;32m   1237\u001b[0m         \u001b[1;32melse\u001b[0m\u001b[1;33m:\u001b[0m\u001b[1;33m\u001b[0m\u001b[1;33m\u001b[0m\u001b[0m\n\u001b[0;32m   1238\u001b[0m             \u001b[1;32mraise\u001b[0m \u001b[0mCannotSendHeader\u001b[0m\u001b[1;33m(\u001b[0m\u001b[1;33m)\u001b[0m\u001b[1;33m\u001b[0m\u001b[1;33m\u001b[0m\u001b[0m\n\u001b[1;32m-> 1239\u001b[1;33m         \u001b[0mself\u001b[0m\u001b[1;33m.\u001b[0m\u001b[0m_send_output\u001b[0m\u001b[1;33m(\u001b[0m\u001b[0mmessage_body\u001b[0m\u001b[1;33m,\u001b[0m \u001b[0mencode_chunked\u001b[0m\u001b[1;33m=\u001b[0m\u001b[0mencode_chunked\u001b[0m\u001b[1;33m)\u001b[0m\u001b[1;33m\u001b[0m\u001b[1;33m\u001b[0m\u001b[0m\n\u001b[0m\u001b[0;32m   1240\u001b[0m \u001b[1;33m\u001b[0m\u001b[0m\n\u001b[0;32m   1241\u001b[0m     def request(self, method, url, body=None, headers={}, *,\n",
      "\u001b[1;32m~\\AppData\\Local\\Continuum\\anaconda3\\lib\\http\\client.py\u001b[0m in \u001b[0;36m_send_output\u001b[1;34m(self, message_body, encode_chunked)\u001b[0m\n\u001b[0;32m   1024\u001b[0m         \u001b[0mmsg\u001b[0m \u001b[1;33m=\u001b[0m \u001b[1;34mb\"\\r\\n\"\u001b[0m\u001b[1;33m.\u001b[0m\u001b[0mjoin\u001b[0m\u001b[1;33m(\u001b[0m\u001b[0mself\u001b[0m\u001b[1;33m.\u001b[0m\u001b[0m_buffer\u001b[0m\u001b[1;33m)\u001b[0m\u001b[1;33m\u001b[0m\u001b[1;33m\u001b[0m\u001b[0m\n\u001b[0;32m   1025\u001b[0m         \u001b[1;32mdel\u001b[0m \u001b[0mself\u001b[0m\u001b[1;33m.\u001b[0m\u001b[0m_buffer\u001b[0m\u001b[1;33m[\u001b[0m\u001b[1;33m:\u001b[0m\u001b[1;33m]\u001b[0m\u001b[1;33m\u001b[0m\u001b[1;33m\u001b[0m\u001b[0m\n\u001b[1;32m-> 1026\u001b[1;33m         \u001b[0mself\u001b[0m\u001b[1;33m.\u001b[0m\u001b[0msend\u001b[0m\u001b[1;33m(\u001b[0m\u001b[0mmsg\u001b[0m\u001b[1;33m)\u001b[0m\u001b[1;33m\u001b[0m\u001b[1;33m\u001b[0m\u001b[0m\n\u001b[0m\u001b[0;32m   1027\u001b[0m \u001b[1;33m\u001b[0m\u001b[0m\n\u001b[0;32m   1028\u001b[0m         \u001b[1;32mif\u001b[0m \u001b[0mmessage_body\u001b[0m \u001b[1;32mis\u001b[0m \u001b[1;32mnot\u001b[0m \u001b[1;32mNone\u001b[0m\u001b[1;33m:\u001b[0m\u001b[1;33m\u001b[0m\u001b[1;33m\u001b[0m\u001b[0m\n",
      "\u001b[1;32m~\\AppData\\Local\\Continuum\\anaconda3\\lib\\http\\client.py\u001b[0m in \u001b[0;36msend\u001b[1;34m(self, data)\u001b[0m\n\u001b[0;32m    964\u001b[0m         \u001b[1;32mif\u001b[0m \u001b[0mself\u001b[0m\u001b[1;33m.\u001b[0m\u001b[0msock\u001b[0m \u001b[1;32mis\u001b[0m \u001b[1;32mNone\u001b[0m\u001b[1;33m:\u001b[0m\u001b[1;33m\u001b[0m\u001b[1;33m\u001b[0m\u001b[0m\n\u001b[0;32m    965\u001b[0m             \u001b[1;32mif\u001b[0m \u001b[0mself\u001b[0m\u001b[1;33m.\u001b[0m\u001b[0mauto_open\u001b[0m\u001b[1;33m:\u001b[0m\u001b[1;33m\u001b[0m\u001b[1;33m\u001b[0m\u001b[0m\n\u001b[1;32m--> 966\u001b[1;33m                 \u001b[0mself\u001b[0m\u001b[1;33m.\u001b[0m\u001b[0mconnect\u001b[0m\u001b[1;33m(\u001b[0m\u001b[1;33m)\u001b[0m\u001b[1;33m\u001b[0m\u001b[1;33m\u001b[0m\u001b[0m\n\u001b[0m\u001b[0;32m    967\u001b[0m             \u001b[1;32melse\u001b[0m\u001b[1;33m:\u001b[0m\u001b[1;33m\u001b[0m\u001b[1;33m\u001b[0m\u001b[0m\n\u001b[0;32m    968\u001b[0m                 \u001b[1;32mraise\u001b[0m \u001b[0mNotConnected\u001b[0m\u001b[1;33m(\u001b[0m\u001b[1;33m)\u001b[0m\u001b[1;33m\u001b[0m\u001b[1;33m\u001b[0m\u001b[0m\n",
      "\u001b[1;32m~\\AppData\\Local\\Continuum\\anaconda3\\lib\\http\\client.py\u001b[0m in \u001b[0;36mconnect\u001b[1;34m(self)\u001b[0m\n\u001b[0;32m   1404\u001b[0m             \u001b[1;34m\"Connect to a host on a given (SSL) port.\"\u001b[0m\u001b[1;33m\u001b[0m\u001b[1;33m\u001b[0m\u001b[0m\n\u001b[0;32m   1405\u001b[0m \u001b[1;33m\u001b[0m\u001b[0m\n\u001b[1;32m-> 1406\u001b[1;33m             \u001b[0msuper\u001b[0m\u001b[1;33m(\u001b[0m\u001b[1;33m)\u001b[0m\u001b[1;33m.\u001b[0m\u001b[0mconnect\u001b[0m\u001b[1;33m(\u001b[0m\u001b[1;33m)\u001b[0m\u001b[1;33m\u001b[0m\u001b[1;33m\u001b[0m\u001b[0m\n\u001b[0m\u001b[0;32m   1407\u001b[0m \u001b[1;33m\u001b[0m\u001b[0m\n\u001b[0;32m   1408\u001b[0m             \u001b[1;32mif\u001b[0m \u001b[0mself\u001b[0m\u001b[1;33m.\u001b[0m\u001b[0m_tunnel_host\u001b[0m\u001b[1;33m:\u001b[0m\u001b[1;33m\u001b[0m\u001b[1;33m\u001b[0m\u001b[0m\n",
      "\u001b[1;32m~\\AppData\\Local\\Continuum\\anaconda3\\lib\\http\\client.py\u001b[0m in \u001b[0;36mconnect\u001b[1;34m(self)\u001b[0m\n\u001b[0;32m    936\u001b[0m         \u001b[1;34m\"\"\"Connect to the host and port specified in __init__.\"\"\"\u001b[0m\u001b[1;33m\u001b[0m\u001b[1;33m\u001b[0m\u001b[0m\n\u001b[0;32m    937\u001b[0m         self.sock = self._create_connection(\n\u001b[1;32m--> 938\u001b[1;33m             (self.host,self.port), self.timeout, self.source_address)\n\u001b[0m\u001b[0;32m    939\u001b[0m         \u001b[0mself\u001b[0m\u001b[1;33m.\u001b[0m\u001b[0msock\u001b[0m\u001b[1;33m.\u001b[0m\u001b[0msetsockopt\u001b[0m\u001b[1;33m(\u001b[0m\u001b[0msocket\u001b[0m\u001b[1;33m.\u001b[0m\u001b[0mIPPROTO_TCP\u001b[0m\u001b[1;33m,\u001b[0m \u001b[0msocket\u001b[0m\u001b[1;33m.\u001b[0m\u001b[0mTCP_NODELAY\u001b[0m\u001b[1;33m,\u001b[0m \u001b[1;36m1\u001b[0m\u001b[1;33m)\u001b[0m\u001b[1;33m\u001b[0m\u001b[1;33m\u001b[0m\u001b[0m\n\u001b[0;32m    940\u001b[0m \u001b[1;33m\u001b[0m\u001b[0m\n",
      "\u001b[1;32m~\\AppData\\Local\\Continuum\\anaconda3\\lib\\socket.py\u001b[0m in \u001b[0;36mcreate_connection\u001b[1;34m(address, timeout, source_address)\u001b[0m\n\u001b[0;32m    714\u001b[0m             \u001b[1;32mif\u001b[0m \u001b[0msource_address\u001b[0m\u001b[1;33m:\u001b[0m\u001b[1;33m\u001b[0m\u001b[1;33m\u001b[0m\u001b[0m\n\u001b[0;32m    715\u001b[0m                 \u001b[0msock\u001b[0m\u001b[1;33m.\u001b[0m\u001b[0mbind\u001b[0m\u001b[1;33m(\u001b[0m\u001b[0msource_address\u001b[0m\u001b[1;33m)\u001b[0m\u001b[1;33m\u001b[0m\u001b[1;33m\u001b[0m\u001b[0m\n\u001b[1;32m--> 716\u001b[1;33m             \u001b[0msock\u001b[0m\u001b[1;33m.\u001b[0m\u001b[0mconnect\u001b[0m\u001b[1;33m(\u001b[0m\u001b[0msa\u001b[0m\u001b[1;33m)\u001b[0m\u001b[1;33m\u001b[0m\u001b[1;33m\u001b[0m\u001b[0m\n\u001b[0m\u001b[0;32m    717\u001b[0m             \u001b[1;31m# Break explicitly a reference cycle\u001b[0m\u001b[1;33m\u001b[0m\u001b[1;33m\u001b[0m\u001b[1;33m\u001b[0m\u001b[0m\n\u001b[0;32m    718\u001b[0m             \u001b[0merr\u001b[0m \u001b[1;33m=\u001b[0m \u001b[1;32mNone\u001b[0m\u001b[1;33m\u001b[0m\u001b[1;33m\u001b[0m\u001b[0m\n",
      "\u001b[1;31mKeyboardInterrupt\u001b[0m: "
     ]
    }
   ],
   "source": [
    "with urllib.request.urlopen(\"https://raw.githubusercontent.com/hebcal/hebcal-leyning/master/src/aliyot.json\") as url:\n",
    "    aliyot = json.loads(url.read().decode())\n",
    "with urllib.request.urlopen(\"https://raw.githubusercontent.com/hebcal/hebcal-leyning/main/src/numverses.json\") as url:\n",
    "    num_verses = json.loads(url.read().decode())"
   ]
  },
  {
   "cell_type": "code",
   "execution_count": null,
   "metadata": {},
   "outputs": [],
   "source": [
    "def nonalpha_remover(word):\n",
    "    no_cant_word = ''\n",
    "    for letter in word:\n",
    "        if letter.isalpha() == True:\n",
    "            no_cant_word += letter\n",
    "        if letter == \"-\" or letter == \" \" or letter == \"־\":\n",
    "            no_cant_word += \" \"\n",
    "    return no_cant_word"
   ]
  },
  {
   "cell_type": "code",
   "execution_count": null,
   "metadata": {},
   "outputs": [],
   "source": [
    "aliyot[\"hebrew\"] = nonalpha_remover(aliyot[\"hebrew\"])"
   ]
  },
  {
   "cell_type": "code",
   "execution_count": 23,
   "metadata": {},
   "outputs": [],
   "source": [
    "def parsha_lengths():\n",
    "    with open('source_files/verse_numbers.csv') as csv_file:\n",
    "        verse_csv = csv.reader(csv_file, delimiter=',')\n",
    "        next(verse_csv)\n",
    "        parsha_lengths = [0]\n",
    "        for parsha in verse_csv:\n",
    "            parsha_lengths.append(parsha[1])\n",
    "    return parsha_lengths"
   ]
  },
  {
   "cell_type": "code",
   "execution_count": 29,
   "metadata": {},
   "outputs": [],
   "source": [
    "def improve_json(aliyot):\n",
    "    outputfile = {}\n",
    "    lengths = parsha_lengths()\n",
    "    for parsha in aliyot:\n",
    "        outputfile[parsha] = parsha\n",
    "        outputfile[parsha][\"num\"] = parsha[\"num\"]\n",
    "        outputfile[parsha][\"hebrew\"] = nonalpha_remover(parsha[\"hebrew\"])\n",
    "        outputfile[parsha][\"book\"] = parsha[\"book\"]\n",
    "        outputfile[parsha][\"verses\"] = parsha[\"verses\"]\n",
    "        outputfile[parsha][\"haftara\"] = parsha[\"haftara\"]\n",
    "        if \"sephardic\" in parsha.keys():\n",
    "            outputfile[parsha][\"sephardic\"] = parsha[\"sephardic\"]\n",
    "        outputfile[parsha][\"fullkriyah\"] = parsha[\"fullkriyah\"]\n",
    "        if \"combined\" in parsha.keys():\n",
    "            outputfile[parsha][\"combined\"] = parsha[\"combined\"]\n",
    "        else:\n",
    "            outputfile[parsha][\"length\"] = lengths[parsha[\"num\"]]\n",
    "            outputfile[parsha][\"haft_label\"] = \"haft_parsha\"\n",
    "    return outputfile"
   ]
  },
  {
   "cell_type": "code",
   "execution_count": 3,
   "metadata": {},
   "outputs": [],
   "source": [
    "with urllib.request.urlopen(\"https://raw.githubusercontent.com/hebcal/hebcal-leyning/main/src/holiday-readings.json\") as url:\n",
    "    holiday_readings = json.loads(url.read().decode())"
   ]
  },
  {
   "cell_type": "code",
   "execution_count": 12,
   "metadata": {},
   "outputs": [
    {
     "name": "stdout",
     "output_type": "stream",
     "text": [
      "dict_values(['Joshua 5:2 - 6:1', {'1': {'p': 15, 'k': 'Exodus', 'b': '12:21', 'e': '12:24'}, '2': {'p': 15, 'k': 'Exodus', 'b': '12:25', 'e': '12:28'}, '3': {'p': 15, 'k': 'Exodus', 'b': '12:29', 'e': '12:36'}, '4': {'p': 15, 'k': 'Exodus', 'b': '12:37', 'e': '12:42'}, '5': {'p': 15, 'k': 'Exodus', 'b': '12:43', 'e': '12:51'}, 'M': {'p': 41, 'k': 'Numbers', 'b': '28:16', 'e': '28:25'}}])\n",
      "dict_values(['Joshua 5:2 - 6:1', {'1': {'p': 15, 'k': 'Exodus', 'b': '12:21', 'e': '12:24'}, '2': {'p': 15, 'k': 'Exodus', 'b': '12:25', 'e': '12:28'}, '3': {'p': 15, 'k': 'Exodus', 'b': '12:29', 'e': '12:32'}, '4': {'p': 15, 'k': 'Exodus', 'b': '12:33', 'e': '12:36'}, '5': {'p': 15, 'k': 'Exodus', 'b': '12:37', 'e': '12:42'}, '6': {'p': 15, 'k': 'Exodus', 'b': '12:43', 'e': '12:47'}, '7': {'p': 15, 'k': 'Exodus', 'b': '12:48', 'e': '12:51'}, 'M': {'p': 41, 'k': 'Numbers', 'b': '28:16', 'e': '28:25'}}])\n",
      "dict_values(['II Kings 23:1 - 23:9; 23:21 - 23:25', {'1': {'p': 31, 'k': 'Leviticus', 'b': '22:26', 'e': '23:3'}, '2': {'p': 31, 'k': 'Leviticus', 'b': '23:4', 'e': '23:14'}, '3': {'p': 31, 'k': 'Leviticus', 'b': '23:15', 'e': '23:22'}, '4': {'p': 31, 'k': 'Leviticus', 'b': '23:23', 'e': '23:32'}, '5': {'p': 31, 'k': 'Leviticus', 'b': '23:33', 'e': '23:44'}, 'M': {'p': 41, 'k': 'Numbers', 'b': '28:16', 'e': '28:25'}}])\n",
      "dict_values([{'1': {'p': 15, 'k': 'Exodus', 'b': '13:1', 'e': '13:4'}, '2': {'p': 15, 'k': 'Exodus', 'b': '13:5', 'e': '13:10'}, '3': {'p': 15, 'k': 'Exodus', 'b': '13:11', 'e': '13:16'}, '4': {'p': 41, 'k': 'Numbers', 'b': '28:19', 'e': '28:25'}}])\n",
      "dict_values([{'1': {'p': 18, 'k': 'Exodus', 'b': '22:24', 'e': '22:26'}, '2': {'p': 18, 'k': 'Exodus', 'b': '22:27', 'e': '23:5'}, '3': {'p': 18, 'k': 'Exodus', 'b': '23:6', 'e': '23:19'}, '4': {'p': 41, 'k': 'Numbers', 'b': '28:19', 'e': '28:25'}}])\n",
      "dict_values([{'1': {'p': 21, 'k': 'Exodus', 'b': '34:1', 'e': '34:10'}, '2': {'p': 21, 'k': 'Exodus', 'b': '34:11', 'e': '34:17'}, '3': {'p': 21, 'k': 'Exodus', 'b': '34:18', 'e': '34:26'}, '4': {'p': 41, 'k': 'Numbers', 'b': '28:19', 'e': '28:25'}}])\n",
      "dict_values([{'1': {'p': 36, 'k': 'Numbers', 'b': '9:1', 'e': '9:5'}, '2': {'p': 36, 'k': 'Numbers', 'b': '9:6', 'e': '9:8'}, '3': {'p': 36, 'k': 'Numbers', 'b': '9:9', 'e': '9:14'}, '4': {'p': 41, 'k': 'Numbers', 'b': '28:19', 'e': '28:25'}}])\n",
      "dict_values(['Ezekiel 37:1 - 37:14', {'1': {'p': 21, 'k': 'Exodus', 'b': '33:12', 'e': '33:16'}, '2': {'p': 21, 'k': 'Exodus', 'b': '33:17', 'e': '33:19'}, '3': {'p': 21, 'k': 'Exodus', 'b': '33:20', 'e': '33:23'}, '4': {'p': 21, 'k': 'Exodus', 'b': '34:1', 'e': '34:3'}, '5': {'p': 21, 'k': 'Exodus', 'b': '34:4', 'e': '34:10'}, '6': {'p': 21, 'k': 'Exodus', 'b': '34:11', 'e': '34:17'}, '7': {'p': 21, 'k': 'Exodus', 'b': '34:18', 'e': '34:26'}, 'M': {'p': 41, 'k': 'Numbers', 'b': '28:19', 'e': '28:25'}}])\n",
      "dict_values(['II Samuel 22:1 - 22:51', {'1': {'p': 16, 'k': 'Exodus', 'b': '13:17', 'e': '13:22'}, '2': {'p': 16, 'k': 'Exodus', 'b': '14:1', 'e': '14:8'}, '3': {'p': 16, 'k': 'Exodus', 'b': '14:9', 'e': '14:14'}, '4': {'p': 16, 'k': 'Exodus', 'b': '14:15', 'e': '14:25'}, '5': {'p': 16, 'k': 'Exodus', 'b': '14:26', 'e': '15:26'}, 'M': {'p': 41, 'k': 'Numbers', 'b': '28:19', 'e': '28:25'}}])\n",
      "dict_values(['II Samuel 22:1 - 22:51', {'1': {'p': 16, 'k': 'Exodus', 'b': '13:17', 'e': '13:19'}, '2': {'p': 16, 'k': 'Exodus', 'b': '13:20', 'e': '13:22'}, '3': {'p': 16, 'k': 'Exodus', 'b': '14:1', 'e': '14:4'}, '4': {'p': 16, 'k': 'Exodus', 'b': '14:5', 'e': '14:8'}, '5': {'p': 16, 'k': 'Exodus', 'b': '14:9', 'e': '14:14'}, '6': {'p': 16, 'k': 'Exodus', 'b': '14:15', 'e': '14:25'}, '7': {'p': 16, 'k': 'Exodus', 'b': '14:26', 'e': '15:26'}, 'M': {'p': 41, 'k': 'Numbers', 'b': '28:19', 'e': '28:25'}}])\n",
      "dict_values(['Isaiah 10:32 - 12:6', {'1': {'p': 47, 'k': 'Deuteronomy', 'b': '15:19', 'e': '15:23'}, '2': {'p': 47, 'k': 'Deuteronomy', 'b': '16:1', 'e': '16:3'}, '3': {'p': 47, 'k': 'Deuteronomy', 'b': '16:4', 'e': '16:8'}, '4': {'p': 47, 'k': 'Deuteronomy', 'b': '16:9', 'e': '16:12'}, '5': {'p': 47, 'k': 'Deuteronomy', 'b': '16:13', 'e': '16:17'}, 'M': {'p': 41, 'k': 'Numbers', 'b': '28:19', 'e': '28:25'}}])\n",
      "dict_values(['Isaiah 10:32 - 12:6', {'1': {'p': 47, 'k': 'Deuteronomy', 'b': '14:22', 'e': '14:29'}, '2': {'p': 47, 'k': 'Deuteronomy', 'b': '15:1', 'e': '15:18'}, '3': {'p': 47, 'k': 'Deuteronomy', 'b': '15:19', 'e': '15:23'}, '4': {'p': 47, 'k': 'Deuteronomy', 'b': '16:1', 'e': '16:3'}, '5': {'p': 47, 'k': 'Deuteronomy', 'b': '16:4', 'e': '16:8'}, '6': {'p': 47, 'k': 'Deuteronomy', 'b': '16:9', 'e': '16:12'}, '7': {'p': 47, 'k': 'Deuteronomy', 'b': '16:13', 'e': '16:17'}, 'M': {'p': 41, 'k': 'Numbers', 'b': '28:19', 'e': '28:25'}}])\n",
      "dict_values(['Ezekiel 1:1 - 1:28; 3:12', {'1': {'p': 17, 'k': 'Exodus', 'b': '19:1', 'e': '19:6'}, '2': {'p': 17, 'k': 'Exodus', 'b': '19:7', 'e': '19:13'}, '3': {'p': 17, 'k': 'Exodus', 'b': '19:14', 'e': '19:19'}, '4': {'p': 17, 'k': 'Exodus', 'b': '19:20', 'e': '20:14'}, '5': {'p': 17, 'k': 'Exodus', 'b': '20:15', 'e': '20:23'}, 'M': {'p': 41, 'k': 'Numbers', 'b': '28:26', 'e': '28:31'}}])\n",
      "dict_values(['Habakkuk 3:1 - 3:19', {'1': {'p': 47, 'k': 'Deuteronomy', 'b': '15:19', 'e': '15:23'}, '2': {'p': 47, 'k': 'Deuteronomy', 'b': '16:1', 'e': '16:3'}, '3': {'p': 47, 'k': 'Deuteronomy', 'b': '16:4', 'e': '16:8'}, '4': {'p': 47, 'k': 'Deuteronomy', 'b': '16:9', 'e': '16:12'}, '5': {'p': 47, 'k': 'Deuteronomy', 'b': '16:13', 'e': '16:17'}, 'M': {'p': 41, 'k': 'Numbers', 'b': '28:26', 'e': '28:31'}}])\n",
      "dict_values(['Habakkuk 3:1 - 3:19', {'1': {'p': 47, 'k': 'Deuteronomy', 'b': '14:22', 'e': '14:29'}, '2': {'p': 47, 'k': 'Deuteronomy', 'b': '15:1', 'e': '15:18'}, '3': {'p': 47, 'k': 'Deuteronomy', 'b': '15:19', 'e': '15:23'}, '4': {'p': 47, 'k': 'Deuteronomy', 'b': '16:1', 'e': '16:3'}, '5': {'p': 47, 'k': 'Deuteronomy', 'b': '16:4', 'e': '16:8'}, '6': {'p': 47, 'k': 'Deuteronomy', 'b': '16:9', 'e': '16:12'}, '7': {'p': 47, 'k': 'Deuteronomy', 'b': '16:13', 'e': '16:17'}, 'M': {'p': 41, 'k': 'Numbers', 'b': '28:26', 'e': '28:31'}}])\n",
      "dict_values([{'1': {'p': 21, 'k': 'Exodus', 'b': '32:11', 'e': '32:14'}, '2': {'p': 21, 'k': 'Exodus', 'b': '34:1', 'e': '34:3'}, '3': {'p': 21, 'k': 'Exodus', 'b': '34:4', 'e': '34:10'}}])\n",
      "dict_values([{'1': {'p': 21, 'k': 'Exodus', 'b': '32:11', 'e': '32:14'}, '2': {'p': 21, 'k': 'Exodus', 'b': '34:1', 'e': '34:3'}, '3': {'p': 21, 'k': 'Exodus', 'b': '34:4', 'e': '34:10'}}])\n",
      "dict_values([{'1': {'p': 21, 'k': 'Exodus', 'b': '32:11', 'e': '32:14'}, '2': {'p': 21, 'k': 'Exodus', 'b': '34:1', 'e': '34:3'}, '3': {'p': 21, 'k': 'Exodus', 'b': '34:4', 'e': '34:10'}}])\n",
      "dict_values([{'1': {'p': 21, 'k': 'Exodus', 'b': '32:11', 'e': '32:14'}, '2': {'p': 21, 'k': 'Exodus', 'b': '34:1', 'e': '34:3'}, '3': {'p': 21, 'k': 'Exodus', 'b': '34:4', 'e': '34:10'}}])\n",
      "dict_values([{'1': {'p': 21, 'k': 'Exodus', 'b': '32:11', 'e': '32:14'}, '2': {'p': 21, 'k': 'Exodus', 'b': '34:1', 'e': '34:3'}, '3': {'p': 21, 'k': 'Exodus', 'b': '34:4', 'e': '34:10'}}])\n",
      "dict_values(['Jeremiah 8:13 - 9:23', {'1': {'p': 45, 'k': 'Deuteronomy', 'b': '4:25', 'e': '4:29'}, '2': {'p': 45, 'k': 'Deuteronomy', 'b': '4:30', 'e': '4:35'}, '3': {'p': 45, 'k': 'Deuteronomy', 'b': '4:36', 'e': '4:40'}}])\n",
      "dict_values(['I Samuel 1:1 - 2:10', {'1': {'p': 4, 'k': 'Genesis', 'b': '21:1', 'e': '21:4'}, '2': {'p': 4, 'k': 'Genesis', 'b': '21:5', 'e': '21:12'}, '3': {'p': 4, 'k': 'Genesis', 'b': '21:13', 'e': '21:21'}, '4': {'p': 4, 'k': 'Genesis', 'b': '21:22', 'e': '21:27'}, '5': {'p': 4, 'k': 'Genesis', 'b': '21:28', 'e': '21:34'}, 'M': {'p': 41, 'k': 'Numbers', 'b': '29:1', 'e': '29:6'}}])\n",
      "dict_values(['I Samuel 1:1 - 2:10', {'1': {'p': 4, 'k': 'Genesis', 'b': '21:1', 'e': '21:4'}, '2': {'p': 4, 'k': 'Genesis', 'b': '21:5', 'e': '21:8'}, '3': {'p': 4, 'k': 'Genesis', 'b': '21:9', 'e': '21:12'}, '4': {'p': 4, 'k': 'Genesis', 'b': '21:13', 'e': '21:17'}, '5': {'p': 4, 'k': 'Genesis', 'b': '21:18', 'e': '21:21'}, '6': {'p': 4, 'k': 'Genesis', 'b': '21:22', 'e': '21:27'}, '7': {'p': 4, 'k': 'Genesis', 'b': '21:28', 'e': '21:34'}, 'M': {'p': 41, 'k': 'Numbers', 'b': '29:1', 'e': '29:6'}}])\n",
      "dict_values(['Jeremiah 31:1 - 31:19', {'1': {'p': 4, 'k': 'Genesis', 'b': '22:1', 'e': '22:3'}, '2': {'p': 4, 'k': 'Genesis', 'b': '22:4', 'e': '22:8'}, '3': {'p': 4, 'k': 'Genesis', 'b': '22:9', 'e': '22:14'}, '4': {'p': 4, 'k': 'Genesis', 'b': '22:15', 'e': '22:19'}, '5': {'p': 4, 'k': 'Genesis', 'b': '22:20', 'e': '22:24'}, 'M': {'p': 41, 'k': 'Numbers', 'b': '29:1', 'e': '29:6'}}])\n",
      "dict_values(['Isaiah 57:14 - 58:14', {'1': {'p': 29, 'k': 'Leviticus', 'b': '16:1', 'e': '16:6'}, '2': {'p': 29, 'k': 'Leviticus', 'b': '16:7', 'e': '16:11'}, '3': {'p': 29, 'k': 'Leviticus', 'b': '16:12', 'e': '16:17'}, '4': {'p': 29, 'k': 'Leviticus', 'b': '16:18', 'e': '16:24'}, '5': {'p': 29, 'k': 'Leviticus', 'b': '16:25', 'e': '16:30'}, '6': {'p': 29, 'k': 'Leviticus', 'b': '16:31', 'e': '16:34'}, 'M': {'p': 41, 'k': 'Numbers', 'b': '29:7', 'e': '29:11'}}])\n",
      "dict_values(['Isaiah 57:14 - 58:14', {'1': {'p': 29, 'k': 'Leviticus', 'b': '16:1', 'e': '16:3'}, '2': {'p': 29, 'k': 'Leviticus', 'b': '16:4', 'e': '16:6'}, '3': {'p': 29, 'k': 'Leviticus', 'b': '16:7', 'e': '16:11'}, '4': {'p': 29, 'k': 'Leviticus', 'b': '16:12', 'e': '16:17'}, '5': {'p': 29, 'k': 'Leviticus', 'b': '16:18', 'e': '16:24'}, '6': {'p': 29, 'k': 'Leviticus', 'b': '16:25', 'e': '16:30'}, '7': {'p': 29, 'k': 'Leviticus', 'b': '16:31', 'e': '16:34'}, 'M': {'p': 41, 'k': 'Numbers', 'b': '29:7', 'e': '29:11'}}])\n",
      "dict_values(['Jonah 1:1-4:11; Micah 7:18-20', {'1': {'p': 29, 'k': 'Leviticus', 'b': '18:1', 'e': '18:5'}, '2': {'p': 29, 'k': 'Leviticus', 'b': '18:6', 'e': '18:21'}, '3': {'p': 29, 'k': 'Leviticus', 'b': '18:22', 'e': '18:30'}}])\n",
      "dict_values(['Jonah 1:1-4:11; Micah 7:18-20', {'1': {'p': 30, 'k': 'Leviticus', 'b': '19:1', 'e': '19:4'}, '2': {'p': 30, 'k': 'Leviticus', 'b': '19:5', 'e': '19:10'}, '3': {'p': 30, 'k': 'Leviticus', 'b': '19:11', 'e': '19:18'}}])\n",
      "dict_values(['Zechariah 14:1 - 14:21', {'1': {'p': 31, 'k': 'Leviticus', 'b': '22:26', 'e': '23:3'}, '2': {'p': 31, 'k': 'Leviticus', 'b': '23:4', 'e': '23:14'}, '3': {'p': 31, 'k': 'Leviticus', 'b': '23:15', 'e': '23:22'}, '4': {'p': 31, 'k': 'Leviticus', 'b': '23:23', 'e': '23:32'}, '5': {'p': 31, 'k': 'Leviticus', 'b': '23:33', 'e': '23:44'}, 'M': {'p': 41, 'k': 'Numbers', 'b': '29:12', 'e': '29:16'}}])\n",
      "dict_values(['Zechariah 14:1 - 14:21', {'1': {'p': 31, 'k': 'Leviticus', 'b': '22:26', 'e': '22:33'}, '2': {'p': 31, 'k': 'Leviticus', 'b': '23:1', 'e': '23:3'}, '3': {'p': 31, 'k': 'Leviticus', 'b': '23:4', 'e': '23:8'}, '4': {'p': 31, 'k': 'Leviticus', 'b': '23:9', 'e': '23:14'}, '5': {'p': 31, 'k': 'Leviticus', 'b': '23:15', 'e': '23:22'}, '6': {'p': 31, 'k': 'Leviticus', 'b': '23:23', 'e': '23:32'}, '7': {'p': 31, 'k': 'Leviticus', 'b': '23:33', 'e': '23:44'}, 'M': {'p': 41, 'k': 'Numbers', 'b': '29:12', 'e': '29:16'}}])\n",
      "dict_values(['I Kings 8:2 - 8:21', {'1': {'p': 31, 'k': 'Leviticus', 'b': '22:26', 'e': '23:3'}, '2': {'p': 31, 'k': 'Leviticus', 'b': '23:4', 'e': '23:14'}, '3': {'p': 31, 'k': 'Leviticus', 'b': '23:15', 'e': '23:22'}, '4': {'p': 31, 'k': 'Leviticus', 'b': '23:23', 'e': '23:32'}, '5': {'p': 31, 'k': 'Leviticus', 'b': '23:33', 'e': '23:44'}, 'M': {'p': 41, 'k': 'Numbers', 'b': '29:12', 'e': '29:16'}}])\n",
      "dict_values([{'1': {'p': 41, 'k': 'Numbers', 'b': '29:17', 'e': '29:19'}, '2': {'p': 41, 'k': 'Numbers', 'b': '29:20', 'e': '29:22'}, '3': {'p': 41, 'k': 'Numbers', 'b': '29:23', 'e': '29:25'}, '4': {'p': 41, 'k': 'Numbers', 'b': '29:17', 'e': '29:22'}}])\n",
      "dict_values([{'1': {'p': 41, 'k': 'Numbers', 'b': '29:20', 'e': '29:22'}, '2': {'p': 41, 'k': 'Numbers', 'b': '29:23', 'e': '29:25'}, '3': {'p': 41, 'k': 'Numbers', 'b': '29:26', 'e': '29:28'}, '4': {'p': 41, 'k': 'Numbers', 'b': '29:20', 'e': '29:25'}}])\n",
      "dict_values([{'1': {'p': 41, 'k': 'Numbers', 'b': '29:23', 'e': '29:25'}, '2': {'p': 41, 'k': 'Numbers', 'b': '29:26', 'e': '29:28'}, '3': {'p': 41, 'k': 'Numbers', 'b': '29:29', 'e': '29:31'}, '4': {'p': 41, 'k': 'Numbers', 'b': '29:23', 'e': '29:28'}}])\n",
      "dict_values([{'1': {'p': 41, 'k': 'Numbers', 'b': '29:26', 'e': '29:28'}, '2': {'p': 41, 'k': 'Numbers', 'b': '29:29', 'e': '29:31'}, '3': {'p': 41, 'k': 'Numbers', 'b': '29:32', 'e': '29:34'}, '4': {'p': 41, 'k': 'Numbers', 'b': '29:26', 'e': '29:31'}}])\n",
      "dict_values([{'1': {'p': 41, 'k': 'Numbers', 'b': '29:29', 'e': '29:31'}, '2': {'p': 41, 'k': 'Numbers', 'b': '29:32', 'e': '29:34'}, '3': {'p': 41, 'k': 'Numbers', 'b': '29:35', 'e': '29:37'}, '4': {'p': 41, 'k': 'Numbers', 'b': '29:29', 'e': '29:34'}}])\n",
      "dict_values(['Ezekiel 38:18 - 39:16', {'1': {'p': 21, 'k': 'Exodus', 'b': '33:12', 'e': '33:16'}, '2': {'p': 21, 'k': 'Exodus', 'b': '33:17', 'e': '33:19'}, '3': {'p': 21, 'k': 'Exodus', 'b': '33:20', 'e': '33:23'}, '4': {'p': 21, 'k': 'Exodus', 'b': '34:1', 'e': '34:3'}, '5': {'p': 21, 'k': 'Exodus', 'b': '34:4', 'e': '34:10'}, '6': {'p': 21, 'k': 'Exodus', 'b': '34:11', 'e': '34:17'}, '7': {'p': 21, 'k': 'Exodus', 'b': '34:18', 'e': '34:26'}, 'M-day1': {'p': 41, 'k': 'Numbers', 'b': '29:17', 'e': '29:22'}, 'M-day2': {'p': 41, 'k': 'Numbers', 'b': '29:20', 'e': '29:25'}, 'M-day3': {'p': 41, 'k': 'Numbers', 'b': '29:23', 'e': '29:28'}, 'M-day4': {'p': 41, 'k': 'Numbers', 'b': '29:26', 'e': '29:31'}, 'M-day5': {'p': 41, 'k': 'Numbers', 'b': '29:29', 'e': '29:34'}}])\n",
      "dict_values([{'1': {'p': 41, 'k': 'Numbers', 'b': '29:26', 'e': '29:28'}, '2': {'p': 41, 'k': 'Numbers', 'b': '29:29', 'e': '29:31'}, '3': {'p': 41, 'k': 'Numbers', 'b': '29:32', 'e': '29:34'}, '4': {'p': 41, 'k': 'Numbers', 'b': '29:29', 'e': '29:34'}}])\n",
      "dict_values(['I Kings 8:54 - 8:66', {'1': {'p': 47, 'k': 'Deuteronomy', 'b': '14:22', 'e': '14:29'}, '2': {'p': 47, 'k': 'Deuteronomy', 'b': '15:1', 'e': '15:18'}, '3': {'p': 47, 'k': 'Deuteronomy', 'b': '15:19', 'e': '16:3'}, '4': {'p': 47, 'k': 'Deuteronomy', 'b': '16:4', 'e': '16:8'}, '5': {'p': 47, 'k': 'Deuteronomy', 'b': '16:9', 'e': '16:17'}, 'M': {'p': 41, 'k': 'Numbers', 'b': '29:35', 'e': '30:1'}}])\n",
      "dict_values(['I Kings 8:54 - 8:66', {'1': {'p': 47, 'k': 'Deuteronomy', 'b': '14:22', 'e': '14:29'}, '2': {'p': 47, 'k': 'Deuteronomy', 'b': '15:1', 'e': '15:18'}, '3': {'p': 47, 'k': 'Deuteronomy', 'b': '15:19', 'e': '15:23'}, '4': {'p': 47, 'k': 'Deuteronomy', 'b': '16:1', 'e': '16:3'}, '5': {'p': 47, 'k': 'Deuteronomy', 'b': '16:4', 'e': '16:8'}, '6': {'p': 47, 'k': 'Deuteronomy', 'b': '16:9', 'e': '16:12'}, '7': {'p': 47, 'k': 'Deuteronomy', 'b': '16:13', 'e': '16:17'}, 'M': {'p': 41, 'k': 'Numbers', 'b': '29:35', 'e': '30:1'}}])\n",
      "dict_values([{'1': {'p': 54, 'k': 'Deuteronomy', 'b': '33:1', 'e': '33:7'}, '2': {'p': 54, 'k': 'Deuteronomy', 'b': '33:8', 'e': '33:12'}, '3': {'p': 54, 'k': 'Deuteronomy', 'b': '33:13', 'e': '33:17'}, '4': {'p': 54, 'k': 'Deuteronomy', 'b': '33:18', 'e': '33:21'}, '5': {'p': 54, 'k': 'Deuteronomy', 'b': '33:22', 'e': '33:26'}}])\n",
      "dict_values(['Joshua 1:1 - 1:18', {'1': {'p': 54, 'k': 'Deuteronomy', 'b': '33:1', 'e': '33:7'}, '2': {'p': 54, 'k': 'Deuteronomy', 'b': '33:8', 'e': '33:12'}, '3': {'p': 54, 'k': 'Deuteronomy', 'b': '33:13', 'e': '33:17'}, '4': {'p': 54, 'k': 'Deuteronomy', 'b': '33:18', 'e': '33:21'}, '5': {'p': 54, 'k': 'Deuteronomy', 'b': '33:22', 'e': '33:26'}, '6': {'p': 54, 'k': 'Deuteronomy', 'b': '33:27', 'e': '34:12'}, '7': {'p': 1, 'k': 'Genesis', 'b': '1:1', 'e': '2:3'}, 'M': {'p': 41, 'k': 'Numbers', 'b': '29:35', 'e': '30:1'}}])\n",
      "dict_values(['Zechariah 2:14-4:7'])\n",
      "dict_values(['I Kings 7:40-7:50'])\n",
      "dict_values(['Zechariah 2:14-4:7', {'7': {'p': 41, 'k': 'Numbers', 'b': '28:9', 'e': '28:15'}, 'M': {'p': 35, 'k': 'Numbers', 'b': '7:42', 'e': '7:47'}}])\n",
      "dict_values([{'1': {'p': 35, 'k': 'Numbers', 'b': '7:1', 'e': '7:11'}, '2': {'p': 35, 'k': 'Numbers', 'b': '7:12', 'e': '7:14'}, '3': {'p': 35, 'k': 'Numbers', 'b': '7:15', 'e': '7:17'}}, {'1': {'p': 35, 'k': 'Numbers', 'b': '7:1', 'e': '7:3'}, '2': {'p': 35, 'k': 'Numbers', 'b': '7:4', 'e': '7:11'}, '3': {'p': 35, 'k': 'Numbers', 'b': '7:12', 'e': '7:17'}}])\n",
      "dict_values([{'1': {'p': 35, 'k': 'Numbers', 'b': '7:18', 'e': '7:20'}, '2': {'p': 35, 'k': 'Numbers', 'b': '7:21', 'e': '7:23'}, '3': {'p': 35, 'k': 'Numbers', 'b': '7:24', 'e': '7:29'}}, {'1': {'p': 35, 'k': 'Numbers', 'b': '7:18', 'e': '7:20'}, '2': {'p': 35, 'k': 'Numbers', 'b': '7:21', 'e': '7:23'}, '3': {'p': 35, 'k': 'Numbers', 'b': '7:18', 'e': '7:23'}}])\n",
      "dict_values([{'1': {'p': 35, 'k': 'Numbers', 'b': '7:24', 'e': '7:26'}, '2': {'p': 35, 'k': 'Numbers', 'b': '7:27', 'e': '7:29'}, '3': {'p': 35, 'k': 'Numbers', 'b': '7:30', 'e': '7:35'}}, {'1': {'p': 35, 'k': 'Numbers', 'b': '7:24', 'e': '7:26'}, '2': {'p': 35, 'k': 'Numbers', 'b': '7:27', 'e': '7:29'}, '3': {'p': 35, 'k': 'Numbers', 'b': '7:24', 'e': '7:29'}}])\n",
      "dict_values([{'1': {'p': 35, 'k': 'Numbers', 'b': '7:30', 'e': '7:32'}, '2': {'p': 35, 'k': 'Numbers', 'b': '7:33', 'e': '7:35'}, '3': {'p': 35, 'k': 'Numbers', 'b': '7:36', 'e': '7:41'}}, {'1': {'p': 35, 'k': 'Numbers', 'b': '7:30', 'e': '7:32'}, '2': {'p': 35, 'k': 'Numbers', 'b': '7:33', 'e': '7:35'}, '3': {'p': 35, 'k': 'Numbers', 'b': '7:30', 'e': '7:35'}}])\n",
      "dict_values([{'1': {'p': 35, 'k': 'Numbers', 'b': '7:36', 'e': '7:38'}, '2': {'p': 35, 'k': 'Numbers', 'b': '7:39', 'e': '7:41'}, '3': {'p': 35, 'k': 'Numbers', 'b': '7:42', 'e': '7:47'}}, {'1': {'p': 35, 'k': 'Numbers', 'b': '7:36', 'e': '7:38'}, '2': {'p': 35, 'k': 'Numbers', 'b': '7:39', 'e': '7:41'}, '3': {'p': 35, 'k': 'Numbers', 'b': '7:36', 'e': '7:41'}}])\n",
      "dict_values([{'1': {'p': 41, 'k': 'Numbers', 'b': '28:1', 'e': '28:5'}, '2': {'p': 41, 'k': 'Numbers', 'b': '28:6', 'e': '28:10'}, '3': {'p': 41, 'k': 'Numbers', 'b': '28:11', 'e': '28:15'}, '4': {'p': 35, 'k': 'Numbers', 'b': '7:42', 'e': '7:47'}}])\n",
      "dict_values([{'1': {'p': 35, 'k': 'Numbers', 'b': '7:48', 'e': '7:50'}, '2': {'p': 35, 'k': 'Numbers', 'b': '7:51', 'e': '7:53'}, '3': {'p': 35, 'k': 'Numbers', 'b': '7:54', 'e': '7:59'}}, {'1': {'p': 35, 'k': 'Numbers', 'b': '7:48', 'e': '7:50'}, '2': {'p': 35, 'k': 'Numbers', 'b': '7:51', 'e': '7:53'}, '3': {'p': 35, 'k': 'Numbers', 'b': '7:48', 'e': '7:53'}}])\n",
      "dict_values([{'1': {'p': 41, 'k': 'Numbers', 'b': '28:1', 'e': '28:5'}, '2': {'p': 41, 'k': 'Numbers', 'b': '28:6', 'e': '28:10'}, '3': {'p': 41, 'k': 'Numbers', 'b': '28:11', 'e': '28:15'}, '4': {'p': 35, 'k': 'Numbers', 'b': '7:48', 'e': '7:53'}}])\n",
      "dict_values([{'1': {'p': 35, 'k': 'Numbers', 'b': '7:54', 'e': '7:56'}, '2': {'p': 35, 'k': 'Numbers', 'b': '7:57', 'e': '7:59'}, '3': {'p': 35, 'k': 'Numbers', 'b': '7:60', 'e': '8:4'}}])\n",
      "dict_values([{'1': {'p': 16, 'k': 'Exodus', 'b': '17:8', 'e': '17:10'}, '2': {'p': 16, 'k': 'Exodus', 'b': '17:11', 'e': '17:13'}, '3': {'p': 16, 'k': 'Exodus', 'b': '17:14', 'e': '17:16'}}])\n",
      "dict_values([{'1': {'p': 16, 'k': 'Exodus', 'b': '17:8', 'e': '17:10'}, '2': {'p': 16, 'k': 'Exodus', 'b': '17:11', 'e': '17:13'}, '3': {'p': 16, 'k': 'Exodus', 'b': '17:14', 'e': '17:16'}}])\n",
      "dict_values(['Ezekiel 45:16 - 46:18', {'M': {'p': 15, 'k': 'Exodus', 'b': '12:1', 'e': '12:20'}}])\n",
      "dict_values(['Ezekiel 45:16 - 46:18', {'7': {'p': 41, 'k': 'Numbers', 'b': '28:9', 'e': '28:15'}, 'M': {'p': 15, 'k': 'Exodus', 'b': '12:1', 'e': '12:20'}}])\n",
      "dict_values(['Malachi 3:4 - 3:24'])\n",
      "dict_values(['Isaiah 40:1 - 40:26'])\n",
      "dict_values(['Ezekiel 36:16 - 36:38', {'M': {'p': 39, 'k': 'Numbers', 'b': '19:1', 'e': '19:22'}}])\n",
      "dict_values(['II Kings 12:1 - 12:17', {'M': {'p': 21, 'k': 'Exodus', 'b': '30:11', 'e': '30:16'}}])\n",
      "dict_values(['II Kings 12:1 - 12:17', {'7': {'p': 41, 'k': 'Numbers', 'b': '28:9', 'e': '28:15'}, 'M': {'p': 21, 'k': 'Exodus', 'b': '30:11', 'e': '30:16'}}])\n",
      "dict_values(['Hosea 14:2-14:10; Micah 7:18-7:20; Joel 2:15-2:27'])\n",
      "dict_values(['I Samuel 15:2 - 15:34', {'M': {'p': 49, 'k': 'Deuteronomy', 'b': '25:17', 'e': '25:19'}}])\n",
      "dict_values([{'1': {'p': 41, 'k': 'Numbers', 'b': '28:1', 'e': '28:3'}, '2': {'p': 41, 'k': 'Numbers', 'b': '28:3', 'e': '28:5'}, '3': {'p': 41, 'k': 'Numbers', 'b': '28:6', 'e': '28:10'}, '4': {'p': 41, 'k': 'Numbers', 'b': '28:11', 'e': '28:15'}}])\n",
      "dict_values(['Isaiah 66:1 - 66:24', {'M': {'p': 41, 'k': 'Numbers', 'b': '28:9', 'e': '28:15'}}])\n",
      "dict_values(['I Samuel 20:18 - 20:42'])\n"
     ]
    }
   ],
   "source": [
    "for entry in holiday_readings:\n",
    "    name = entry\n",
    "with open('source_files/special_haft_maft.csv','w') as csv_file:\n",
    "    header = [\"Name\",\"Maftir\",\"Haftarah\",\"In_book_1\",\"In_book_2\",\"In_book_3\",\"In_book_4\",\"In_book_5\"]\n",
    "    csvwriter = csv.writer(csv_file) \n",
    "    for entry in holiday_readings.values():\n",
    "        print(entry.values())"
   ]
  },
  {
   "cell_type": "code",
   "execution_count": null,
   "metadata": {},
   "outputs": [],
   "source": []
  }
 ],
 "metadata": {
  "kernelspec": {
   "display_name": "Python 3",
   "language": "python",
   "name": "python3"
  },
  "language_info": {
   "codemirror_mode": {
    "name": "ipython",
    "version": 3
   },
   "file_extension": ".py",
   "mimetype": "text/x-python",
   "name": "python",
   "nbconvert_exporter": "python",
   "pygments_lexer": "ipython3",
   "version": "3.7.4"
  }
 },
 "nbformat": 4,
 "nbformat_minor": 2
}
