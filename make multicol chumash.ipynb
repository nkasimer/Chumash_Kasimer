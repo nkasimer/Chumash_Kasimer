{
 "cells": [
  {
   "cell_type": "code",
   "execution_count": null,
   "metadata": {},
   "outputs": [],
   "source": [
    "def textpuller(text,version):\n",
    "    link = \"https://www.sefaria.org/api/texts/\"+text+\"?vhe=\"+version+\"&context=0\"\n",
    "    print(link)\n",
    "    with urllib.request.urlopen(link) as url:\n",
    "        sefariaresult = json.loads(url.read().decode())\n",
    "    text = \"\"\n",
    "    if type(sefariaresult[\"he\"])==str:\n",
    "        text = sefariaresult[\"he\"]\n",
    "    elif type(sefariaresult[\"he\"])==list:\n",
    "        if type(sefariaresult[\"he\"][0])==str:\n",
    "            for verse in sefariaresult[\"he\"]:\n",
    "                text = text + verse + \" \"\n",
    "        elif type(sefariaresult[\"he\"][0])==list:\n",
    "            textblock = []\n",
    "            for chunk in sefariaresult[\"he\"]:\n",
    "                textblock = textblock + chunk\n",
    "            for verse in textblock:\n",
    "                text = text + verse + \" \"\n",
    "    title_he = sefariaresult[\"heSectionRef\"]\n",
    "    return text,title_he"
   ]
  },
  {
   "cell_type": "code",
   "execution_count": null,
   "metadata": {},
   "outputs": [],
   "source": [
    "def qkparse(string):\n",
    "    start = string.index('<span class=\\\"mam-kq\">')\n",
    "    string_before = string[0:start]\n",
    "    startk = string.index('<span class=\\\"mam-kq-k\\\">',start)\n",
    "    startk = string.index('>',startk)+2\n",
    "    endk = string.index('</span>',startk)-1\n",
    "    ktext = string[startk:endk]\n",
    "    startq = string.index('<span class=\\\"mam-kq-q\\\">')\n",
    "    startq = string.index('>',startq)+2\n",
    "    endq = string.index('</span>',startq)-1\n",
    "    qtext=string[startq:endq]\n",
    "    end = string.index('</span></span>',endq)\n",
    "    end = string.index(' ',end)\n",
    "    output = '\\\\qk{'+qtext+'}{'+ktext+'}'\n",
    "    string_after = string[end:]\n",
    "    return string_before+output+string_after"
   ]
  },
  {
   "cell_type": "code",
   "execution_count": null,
   "metadata": {},
   "outputs": [],
   "source": [
    "def removeformatting(text):\n",
    "    while \"<\" in text and \">\" in text:\n",
    "        loc1 = text.find(\"<\")\n",
    "        loc2 = text.find(\">\",loc1)+1\n",
    "        text = text.replace(text[loc1:loc2],\"\")\n",
    "    return text"
   ]
  },
  {
   "cell_type": "code",
   "execution_count": null,
   "metadata": {},
   "outputs": [],
   "source": []
  },
  {
   "cell_type": "code",
   "execution_count": null,
   "metadata": {},
   "outputs": [],
   "source": []
  }
 ],
 "metadata": {
  "kernelspec": {
   "display_name": "Python 3",
   "language": "python",
   "name": "python3"
  },
  "language_info": {
   "codemirror_mode": {
    "name": "ipython",
    "version": 3
   },
   "file_extension": ".py",
   "mimetype": "text/x-python",
   "name": "python",
   "nbconvert_exporter": "python",
   "pygments_lexer": "ipython3",
   "version": "3.7.4"
  }
 },
 "nbformat": 4,
 "nbformat_minor": 2
}
