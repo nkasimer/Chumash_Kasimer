{
 "cells": [
  {
   "cell_type": "markdown",
   "metadata": {},
   "source": [
    "#  Imports verses from Tanakh into a LaTeX-friendly format"
   ]
  },
  {
   "cell_type": "code",
   "execution_count": null,
   "metadata": {},
   "outputs": [],
   "source": [
    "#this defines which book is where and what the exact names are\n",
    "#to look up the names properly"
   ]
  },
  {
   "cell_type": "code",
   "execution_count": 16,
   "metadata": {},
   "outputs": [],
   "source": [
    "torah = 'torah.csv'\n",
    "megillot = 'chamesh megillot.csv'\n",
    "navi1 = 'neviim rishonim.csv'\n",
    "navi2 = 'neviim achronim.csv'\n",
    "emet = 'sifrei emet.csv'\n",
    "ketuvim = 'ketuvim.csv'"
   ]
  },
  {
   "cell_type": "code",
   "execution_count": 17,
   "metadata": {},
   "outputs": [],
   "source": [
    "sefarim = {\n",
    "    \"ספר בראשית\":torah,\n",
    "    \"ספר שמות\":torah,\n",
    "    \"ספר ויקרא\":torah,\n",
    "    \"ספר במדבר\":torah,\n",
    "    \"ספר דברים\":torah,\n",
    "    \"ספר יהושע\":navi1,\n",
    "    \"ספר שופטים\":navi1,\n",
    "    \"ספר שמואל\":navi1,\n",
    "    \"ספר מלכים\":navi1,\n",
    "    \"ספר ישעיהו\":navi2,\n",
    "    \"ספר ירמיהו\":navi2,\n",
    "    \"ספר יחזקאל\":navi2,\n",
    "    \"ספר תרי עשר\":navi2,\n",
    "    \"ספר תהלים\":emet,\n",
    "    \"ספר משלי\":emet,\n",
    "    \"ספר איוב\":emet,\n",
    "    \"מגילת שיר השירים\":megillot,\n",
    "    \"מגילת רות\":megillot,\n",
    "    \"מגילת איכה\":megillot,\n",
    "    \"מגילת קהלת\":megillot,\n",
    "    \"מגילת אסתר\":megillot,\n",
    "    \"ספר דניאל\":ketuvim\n",
    "    #needs support for  aleph/bet, trei-asar, ezra-nehemiah, divrei-hayamim\n",
    "}"
   ]
  },
  {
   "cell_type": "code",
   "execution_count": 6,
   "metadata": {},
   "outputs": [],
   "source": [
    "sefer_name = {\n",
    "    \"gen\":\"ספר בראשית\",\n",
    "    \"ex\":\"ספר שמות\",\n",
    "    \"lev\":\"ספר ויקרא\",\n",
    "    \"num\":\"ספר במדבר\",\n",
    "    \"dev\":\"ספר דברים\",\n",
    "    \"josh\":\"ספר יהושע\",\n",
    "    \"judges\":\"ספר שופטים\",\n",
    "    \"sam\":\"ספר שמואל\",\n",
    "    \"kings\":\"ספר מלכים\",\n",
    "    \"is\":\"ספר ישעיהו\",\n",
    "    \"jer\":\"ספר ירמיהו\",\n",
    "    \"ezek\":\"ספר יחזקאל\",\n",
    "    #\"ספר תרי עשר\",\n",
    "    \"psalms\":\"ספר תהלים\",\n",
    "    \"prov\":\"ספר משלי\",\n",
    "    \"job\":\"ספר איוב\",\n",
    "    \"song\":\"מגילת שיר השירים\",\n",
    "    \"ruth\":\"מגילת רות\",\n",
    "    \"lam\":\"מגילת איכה\",\n",
    "    \"ecc\":\"מגילת קהלת\",\n",
    "    \"esther\":\"מגילת אסתר\",\n",
    "    \"dan\":\"ספר דניאל\"\n",
    "    #needs support for  aleph/bet, trei-asar, ezra-nehemiah, divrei-hayamim\n",
    "}"
   ]
  },
  {
   "cell_type": "code",
   "execution_count": 7,
   "metadata": {},
   "outputs": [],
   "source": [
    "#this parses the formatting notes in the 3rd column of the spreadsheet"
   ]
  },
  {
   "cell_type": "code",
   "execution_count": 8,
   "metadata": {},
   "outputs": [],
   "source": [
    "format = {\n",
    "   \"//{{פפ}}//\":\"\\p\",\n",
    "   \"{{סס}}\":\"\\s\",\n",
    "   \"{{פפ}}\":\"\\p\",\n",
    "    \"{{פפפ}}\":\"\\p\",\n",
    "    \"{{רווח בסוף שורה}}\":\"\\p\",\n",
    "    \"{{ססס}}\":\"\\s\",\n",
    "    \"{{סס2}}\":\"\\s\"\n",
    "    #{{פסקא באמצע פסוק|משתנה|הערות}}\n",
    "}"
   ]
  },
  {
   "cell_type": "code",
   "execution_count": 9,
   "metadata": {},
   "outputs": [],
   "source": [
    "def format_parser(format_in):\n",
    "    blank = '__'\n",
    "    if format_in == blank:\n",
    "        return ''\n",
    "    elif format_in in format:\n",
    "        return format[format_in]\n",
    "    else:\n",
    "        return format_in"
   ]
  },
  {
   "cell_type": "code",
   "execution_count": 10,
   "metadata": {},
   "outputs": [],
   "source": [
    "#this looks for a note about the aliya in the 4th column of the spreadsheet.\n",
    "#maybe functionality for sedarim will be added over time."
   ]
  },
  {
   "cell_type": "code",
   "execution_count": null,
   "metadata": {},
   "outputs": [],
   "source": [
    "aliya_commands = {\n",
    "    \n",
    "}"
   ]
  },
  {
   "cell_type": "code",
   "execution_count": 11,
   "metadata": {},
   "outputs": [],
   "source": [
    "def aliya_parser(aliya_in):\n",
    "    aliya = 'עלייה'\n",
    "    output = ''\n",
    "    if aliya in aliya_in:\n",
    "        aliya_start=0\n",
    "        while aliya_start<len(aliya_in) and aliya_in[aliya_start]!='=':\n",
    "            aliya_start=aliya_start+1\n",
    "        aliya_end = aliya_start+1\n",
    "        while aliya_end<len(aliya_in) and aliya_in[aliya_end]!='}':\n",
    "            aliya_end = aliya_end+1\n",
    "        output = output + aliya_in[aliya_start+1:aliya_end]\n",
    "    \n",
    "    seder = 'סדר'\n",
    "    if seder in aliya_in:\n",
    "        seder_start=0\n",
    "        while seder_start<len(aliya_in) and aliya_in[seder_start]!='=':\n",
    "            seder_start=seder_start+1\n",
    "        seder_end = seder_start+1\n",
    "        while seder_end<len(aliya_in) and aliya_in[seder_end]!='|':\n",
    "            seder_end = seder_end+1\n",
    "        output = output + aliya_in[seder_start+1:seder_end]\n",
    "    \n",
    "    return output"
   ]
  },
  {
   "cell_type": "code",
   "execution_count": 12,
   "metadata": {},
   "outputs": [],
   "source": [
    "#this parses notes embedded in the tanakh-text."
   ]
  },
  {
   "cell_type": "code",
   "execution_count": null,
   "metadata": {},
   "outputs": [],
   "source": [
    "text_format = {\n",
    "    \"{{מ:לגרמיה}}\":\" ׀ \"\n",
    "    \"{{מ:פסק}}\":\" ׀ \"\n",
    "\n",
    "}"
   ]
  },
  {
   "cell_type": "code",
   "execution_count": 13,
   "metadata": {},
   "outputs": [],
   "source": [
    "def text_parser(pasuk_in):\n",
    "    #needs support for kri ukhtiv\n",
    "    #needs support for footnotes\n",
    "    #needs support for special characters\n",
    "    return pasuk_in"
   ]
  },
  {
   "cell_type": "code",
   "execution_count": 14,
   "metadata": {},
   "outputs": [],
   "source": [
    "#this pulls verses from the Torah and runs them through the above parsers"
   ]
  },
  {
   "cell_type": "code",
   "execution_count": 18,
   "metadata": {
    "scrolled": false
   },
   "outputs": [
    {
     "name": "stdout",
     "output_type": "stream",
     "text": [
      "{{מ:ספר חדש|שמות}} \n",
      " א|עלייה='''שמות''' \n",
      " וְאֵ֗לֶּה שְׁמוֹת֙ בְּנֵ֣י יִשְׂרָאֵ֔ל הַבָּאִ֖ים מִצְרָ֑יְמָה אֵ֣ת יַעֲקֹ֔ב אִ֥ישׁ וּבֵית֖וֹ בָּֽאוּ׃\n",
      " \n",
      "  \n",
      " רְאוּבֵ֣ן שִׁמְע֔וֹן לֵוִ֖י וִיהוּדָֽה׃\n",
      " \n",
      "  \n",
      " יִשָּׂשכָ֥ר זְבוּלֻ֖ן {{נוסח|וּבִנְיָמִֽן|=שש1 ובדפוסים|ל=וּבְנְיָמִֽן (בי\"ת בשתי נקודות שוא!)|הערות דותן והמקליד}}׃\n",
      " \n",
      "  \n",
      " דָּ֥ן וְנַפְתָּלִ֖י גָּ֥ד וְאָשֵֽׁר׃\n",
      " \n",
      "  \n",
      " {{נוסח|וַֽיְהִ֗י|ל=וַֽיְהִ֗י בגעיה ימנית}} כׇּל־נֶ֛פֶשׁ יֹצְאֵ֥י יֶֽרֶךְ־יַעֲקֹ֖ב שִׁבְעִ֣ים נָ֑פֶשׁ וְיוֹסֵ֖ף הָיָ֥ה בְמִצְרָֽיִם׃\n",
      " \n",
      "  \n",
      " וַיָּ֤מׇת יוֹסֵף֙ וְכׇל־אֶחָ֔יו וְכֹ֖ל הַדּ֥וֹר הַהֽוּא׃\n",
      " \n",
      "  \n",
      " וּבְנֵ֣י יִשְׂרָאֵ֗ל פָּר֧וּ וַֽיִּשְׁרְצ֛וּ וַיִּרְבּ֥וּ וַיַּֽעַצְמ֖וּ בִּמְאֹ֣ד מְאֹ֑ד וַתִּמָּלֵ֥א הָאָ֖רֶץ אֹתָֽם׃\n",
      "\\p \n",
      " [לוי] \n",
      " וַיָּ֥קׇם מֶֽלֶךְ־חָדָ֖שׁ עַל־מִצְרָ֑יִם אֲשֶׁ֥ר לֹֽא־יָדַ֖ע אֶת־יוֹסֵֽף׃\n"
     ]
    }
   ],
   "source": [
    "import csv\n",
    "\n",
    "book_in = 'ex'\n",
    "book_in = sefer_name[book_in]\n",
    "chelek = sefarim[book_in]\n",
    "\n",
    "perek_start = 'א'\n",
    "perek_end = 'א'\n",
    "pasuk_start = 'א'\n",
    "pasuk_end = 'ח'\n",
    "output = ''\n",
    "with open(chelek, 'r', encoding='utf-8') as csvDataFile:\n",
    "    csvReader = csv.reader(csvDataFile)\n",
    "    in_range = False\n",
    "    for row in csvReader:\n",
    "        book_perek = row[0].split('/')\n",
    "        pasuk = row[1]\n",
    "        if book_in == book_perek[0] and perek_start==book_perek[1] and pasuk_start==pasuk:\n",
    "            in_range = True\n",
    "        \n",
    "        if in_range==True:\n",
    "            output = output+format_parser(row[2])+aliya_parser(row[3])+text_parser(row[4])\n",
    "            print(format_parser(row[2]),'\\n',aliya_parser(row[3]),'\\n',row[4])\n",
    "        \n",
    "        if book_in == book_perek[0] and perek_end==book_perek[1] and pasuk_end==pasuk:\n",
    "            break"
   ]
  },
  {
   "cell_type": "code",
   "execution_count": 19,
   "metadata": {},
   "outputs": [
    {
     "data": {
      "text/plain": [
       "'{{מ:ספר חדש|שמות}}א|עלייה=\\'\\'\\'שמות\\'\\'\\'וְאֵ֗לֶּה שְׁמוֹת֙ בְּנֵ֣י יִשְׂרָאֵ֔ל הַבָּאִ֖ים מִצְרָ֑יְמָה אֵ֣ת יַעֲקֹ֔ב אִ֥ישׁ וּבֵית֖וֹ בָּֽאוּ׃רְאוּבֵ֣ן שִׁמְע֔וֹן לֵוִ֖י וִיהוּדָֽה׃יִשָּׂשכָ֥ר זְבוּלֻ֖ן {{נוסח|וּבִנְיָמִֽן|=שש1 ובדפוסים|ל=וּבְנְיָמִֽן (בי\"ת בשתי נקודות שוא!)|הערות דותן והמקליד}}׃דָּ֥ן וְנַפְתָּלִ֖י גָּ֥ד וְאָשֵֽׁר׃{{נוסח|וַֽיְהִ֗י|ל=וַֽיְהִ֗י בגעיה ימנית}} כׇּל־נֶ֛פֶשׁ יֹצְאֵ֥י יֶֽרֶךְ־יַעֲקֹ֖ב שִׁבְעִ֣ים נָ֑פֶשׁ וְיוֹסֵ֖ף הָיָ֥ה בְמִצְרָֽיִם׃וַיָּ֤מׇת יוֹסֵף֙ וְכׇל־אֶחָ֔יו וְכֹ֖ל הַדּ֥וֹר הַהֽוּא׃וּבְנֵ֣י יִשְׂרָאֵ֗ל פָּר֧וּ וַֽיִּשְׁרְצ֛וּ וַיִּרְבּ֥וּ וַיַּֽעַצְמ֖וּ בִּמְאֹ֣ד מְאֹ֑ד וַתִּמָּלֵ֥א הָאָ֖רֶץ אֹתָֽם׃\\\\p[לוי]וַיָּ֥קׇם מֶֽלֶךְ־חָדָ֖שׁ עַל־מִצְרָ֑יִם אֲשֶׁ֥ר לֹֽא־יָדַ֖ע אֶת־יוֹסֵֽף׃'"
      ]
     },
     "execution_count": 19,
     "metadata": {},
     "output_type": "execute_result"
    }
   ],
   "source": [
    "output"
   ]
  },
  {
   "cell_type": "code",
   "execution_count": null,
   "metadata": {},
   "outputs": [],
   "source": []
  }
 ],
 "metadata": {
  "kernelspec": {
   "display_name": "Python 3",
   "language": "python",
   "name": "python3"
  },
  "language_info": {
   "codemirror_mode": {
    "name": "ipython",
    "version": 3
   },
   "file_extension": ".py",
   "mimetype": "text/x-python",
   "name": "python",
   "nbconvert_exporter": "python",
   "pygments_lexer": "ipython3",
   "version": "3.7.4"
  }
 },
 "nbformat": 4,
 "nbformat_minor": 2
}
