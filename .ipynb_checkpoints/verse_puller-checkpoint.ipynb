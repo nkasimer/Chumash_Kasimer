{
 "cells": [
  {
   "cell_type": "markdown",
   "metadata": {},
   "source": [
    "#  Imports verses from Tanakh into a LaTeX-friendly format"
   ]
  },
  {
   "cell_type": "code",
   "execution_count": null,
   "metadata": {},
   "outputs": [],
   "source": [
    "#this defines which book is where and what the exact names are\n",
    "#to look up the names properly"
   ]
  },
  {
   "cell_type": "code",
   "execution_count": 1,
   "metadata": {},
   "outputs": [],
   "source": [
    "torah = 'torah.csv'\n",
    "megillot = 'chamesh megillot.csv'\n",
    "navi1 = 'neviim rishonim.csv'\n",
    "navi2 = 'neviim achronim.csv'\n",
    "emet = 'sifrei emet.csv'\n",
    "ketuvim = 'ketuvim.csv'"
   ]
  },
  {
   "cell_type": "code",
   "execution_count": 2,
   "metadata": {},
   "outputs": [],
   "source": [
    "sefarim = {\n",
    "    \"ספר בראשית\":torah,\n",
    "    \"ספר שמות\":torah,\n",
    "    \"ספר ויקרא\":torah,\n",
    "    \"ספר במדבר\":torah,\n",
    "    \"ספר דברים\":torah,\n",
    "    \"ספר יהושע\":navi1,\n",
    "    \"ספר שופטים\":navi1,\n",
    "    \"ספר שמואל\":navi1,\n",
    "    \"ספר מלכים\":navi1,\n",
    "    \"ספר ישעיהו\":navi2,\n",
    "    \"ספר ירמיהו\":navi2,\n",
    "    \"ספר יחזקאל\":navi2,\n",
    "    \"ספר תרי עשר\":navi2,\n",
    "    \"ספר תהלים\":emet,\n",
    "    \"ספר משלי\":emet,\n",
    "    \"ספר איוב\":emet,\n",
    "    \"מגילת שיר השירים\":megillot,\n",
    "    \"מגילת רות\":megillot,\n",
    "    \"מגילת איכה\":megillot,\n",
    "    \"מגילת קהלת\":megillot,\n",
    "    \"מגילת אסתר\":megillot,\n",
    "    \"ספר דניאל\":ketuvim\n",
    "    #needs support for  aleph/bet, trei-asar, ezra-nehemiah, divrei-hayamim\n",
    "}"
   ]
  },
  {
   "cell_type": "code",
   "execution_count": 3,
   "metadata": {},
   "outputs": [],
   "source": [
    "sefer_name = {\n",
    "    \"gen\":\"ספר בראשית\",\n",
    "    \"ex\":\"ספר שמות\",\n",
    "    \"lev\":\"ספר ויקרא\",\n",
    "    \"num\":\"ספר במדבר\",\n",
    "    \"dev\":\"ספר דברים\",\n",
    "    \"josh\":\"ספר יהושע\",\n",
    "    \"judges\":\"ספר שופטים\",\n",
    "    \"sam\":\"ספר שמואל\",\n",
    "    \"kings\":\"ספר מלכים\",\n",
    "    \"is\":\"ספר ישעיהו\",\n",
    "    \"jer\":\"ספר ירמיהו\",\n",
    "    \"ezek\":\"ספר יחזקאל\",\n",
    "    #\"ספר תרי עשר\",\n",
    "    \"psalms\":\"ספר תהלים\",\n",
    "    \"prov\":\"ספר משלי\",\n",
    "    \"job\":\"ספר איוב\",\n",
    "    \"song\":\"מגילת שיר השירים\",\n",
    "    \"ruth\":\"מגילת רות\",\n",
    "    \"lam\":\"מגילת איכה\",\n",
    "    \"ecc\":\"מגילת קהלת\",\n",
    "    \"esther\":\"מגילת אסתר\",\n",
    "    \"dan\":\"ספר דניאל\"\n",
    "    #needs support for  aleph/bet, trei-asar, ezra-nehemiah, divrei-hayamim\n",
    "}"
   ]
  },
  {
   "cell_type": "code",
   "execution_count": 4,
   "metadata": {},
   "outputs": [],
   "source": [
    "#this parses the formatting notes in the 3rd column of the spreadsheet"
   ]
  },
  {
   "cell_type": "code",
   "execution_count": 5,
   "metadata": {},
   "outputs": [],
   "source": [
    "format = {\n",
    "    \"//{{פפ}}//\":\"\\p\",\n",
    "    \"{{סס}}\":\"\\s\",\n",
    "    \"{{פפ}}\":\"\\p\",\n",
    "    \"{{פפפ}}\":\"\\p\",\n",
    "    \"{{רווח בסוף שורה}}\":\"\\p\",\n",
    "    \"{{ססס}}\":\"\\s\",\n",
    "    \"{{סס2}}\":\"\\s\",\n",
    "    \"//{{סס}}\":\"\\s\"\n",
    "    #{{פסקא באמצע פסוק|משתנה|הערות}}\n",
    "}"
   ]
  },
  {
   "cell_type": "code",
   "execution_count": 6,
   "metadata": {},
   "outputs": [],
   "source": [
    "def format_parser(format_in):\n",
    "    blank = '__'\n",
    "    if format_in == blank:\n",
    "        return ''\n",
    "    elif format_in in format:\n",
    "        return format[format_in]\n",
    "    else:\n",
    "        return format_in"
   ]
  },
  {
   "cell_type": "code",
   "execution_count": 7,
   "metadata": {},
   "outputs": [],
   "source": [
    "#this looks for a note about the aliya in the 4th column of the spreadsheet.\n",
    "#maybe functionality for sedarim will be added over time."
   ]
  },
  {
   "cell_type": "code",
   "execution_count": 8,
   "metadata": {},
   "outputs": [],
   "source": [
    "#this would change aliyot info to exact commands\n",
    "#the current plan is to just have the aliya text be the argument of the \\aliya{} command, so this is not needed.\n",
    "#if used, this needs support for double parshiyot.\n",
    "aliya_commands = {\n",
    "    \"[לוי]\":\"\\\\aliya{levi}\",\n",
    "    \"[ישראל]\":\"\\\\aliya{yisrael}\",\n",
    "    \"[ע\\\"כ ישראל]\":\"\\\\aliya{end_yisrael}\",\n",
    "    \"שני\":\"\\\\aliya{sheni}\",\n",
    "    \"שלישי\":\"\\\\aliya{shelishi}\",\n",
    "    \"רביעי\":\"\\\\aliya{revii}\",\n",
    "    \"חמישי\":\"\\\\aliya{chamishi}\",\n",
    "    \"ששי\":\"\\\\aliya{shishi}\",\n",
    "    \"שביעי\":\"\\\\aliya{shevii}\",\n",
    "    \"מפטיר\":\"\\\\aliya{maftir}\"\n",
    "}"
   ]
  },
  {
   "cell_type": "code",
   "execution_count": 9,
   "metadata": {},
   "outputs": [],
   "source": [
    "def aliya_parser(aliya_in):\n",
    "    aliya = 'עלייה'\n",
    "    aliya_command = ''\n",
    "    seder_command = ''\n",
    "    output = ''\n",
    "    if aliya in aliya_in:\n",
    "        aliya_start=aliya_in.find(aliya)\n",
    "        while aliya_start<len(aliya_in) and aliya_in[aliya_start]!='=':\n",
    "            aliya_start=aliya_start+1\n",
    "        aliya_end = aliya_start+1\n",
    "        while aliya_end<len(aliya_in) and aliya_in[aliya_end]!='}':\n",
    "            aliya_end = aliya_end+1\n",
    "        aliya_number = aliya_in[aliya_start+1:aliya_end]\n",
    "        if '\\'' in aliya_number:\n",
    "            parsha_name = aliya_number.replace('\\'','')\n",
    "            aliya_command = '\\\\parsha{'+parsha_name+'}'\n",
    "        else:\n",
    "            aliya_command = '\\\\aliya{'+aliya_number+'}'\n",
    "    \n",
    "    seder = 'סדר'\n",
    "    if seder in aliya_in:\n",
    "        seder_start=aliya_in.find(seder)\n",
    "        while seder_start<len(aliya_in) and aliya_in[seder_start]!='=':\n",
    "            seder_start=seder_start+1\n",
    "        seder_end = seder_start+1\n",
    "        while seder_end<len(aliya_in) and aliya_in[seder_end]!='|':\n",
    "            seder_end = seder_end+1\n",
    "        seder_command = '\\seder{'+aliya_in[seder_start+1:seder_end]+'}'\n",
    "    \n",
    "    output = seder_command + aliya_command\n",
    "    return output"
   ]
  },
  {
   "cell_type": "code",
   "execution_count": 10,
   "metadata": {},
   "outputs": [],
   "source": [
    "#this parses notes embedded in the tanakh-text."
   ]
  },
  {
   "cell_type": "code",
   "execution_count": 11,
   "metadata": {},
   "outputs": [],
   "source": [
    "text_format = {\n",
    "    \"{{מ:לגרמיה}}\":\" ׀ \",\n",
    "    \"{{מ:פסק}}\":\" ׀ \"\n",
    "    \n",
    "}"
   ]
  },
  {
   "cell_type": "code",
   "execution_count": 12,
   "metadata": {},
   "outputs": [],
   "source": [
    "def text_parser(pasuk_in):\n",
    "    #needs kri ukhtiv\n",
    "    #needs footnotes\n",
    "    #needs special characters\n",
    "    #needs words with alternate kamatz katan forms\n",
    "    return pasuk_in"
   ]
  },
  {
   "cell_type": "code",
   "execution_count": 13,
   "metadata": {},
   "outputs": [],
   "source": [
    "#this pulls verses from the Torah and runs them through the above parsers"
   ]
  },
  {
   "cell_type": "code",
   "execution_count": 19,
   "metadata": {
    "scrolled": false
   },
   "outputs": [
    {
     "name": "stdout",
     "output_type": "stream",
     "text": [
      "{{נוסח|{{סס}}|ל=פרשה פתוחה}} \\seder{ד}\\aliya{ששי} \n",
      " זֶ֣ה סֵ֔פֶר{{גודל גופן|2|{{הערה|בספרי תימן {{מ:אות-ג|סֵ֔}}פֶר בסמ\"ך גדולה}}}} תּוֹלְדֹ֖ת אָדָ֑ם בְּי֗וֹם בְּרֹ֤א אֱלֹהִים֙ אָדָ֔ם בִּדְמ֥וּת אֱלֹהִ֖ים עָשָׂ֥ה אֹתֽוֹ׃\n",
      "  \n",
      " זָכָ֥ר וּנְקֵבָ֖ה בְּרָאָ֑ם וַיְבָ֣רֶךְ אֹתָ֗ם וַיִּקְרָ֤א אֶת־שְׁמָם֙ אָדָ֔ם בְּי֖וֹם הִבָּֽרְאָֽם׃\n",
      "{{נוסח|__|ל=פרשה סתומה}}  \n",
      " {{נוסח|וַֽיְחִ֣י|=ל (בגעיה ימנית)|ברויאר מחק את הגעיה (וַיְחִ֣י) ע\"פ כתי\"ל1}} אָדָ֗ם שְׁלֹשִׁ֤ים וּמְאַת֙ שָׁנָ֔ה וַיּ֥וֹלֶד בִּדְמוּת֖וֹ כְּצַלְמ֑וֹ וַיִּקְרָ֥א אֶת־שְׁמ֖וֹ שֵֽׁת׃\n",
      "  \n",
      " וַיִּֽהְי֣וּ יְמֵי־אָדָ֗ם {{נוסח|אַֽחֲרֵי֙|ל=אַֽחֲרֵי֙ בגעיה ימנית}} הוֹלִיד֣וֹ אֶת־שֵׁ֔ת שְׁמֹנֶ֥ה מֵאֹ֖ת שָׁנָ֑ה וַיּ֥וֹלֶד בָּנִ֖ים וּבָנֽוֹת׃\n",
      "  \n",
      " וַיִּֽהְי֞וּ כׇּל־יְמֵ֤י אָדָם֙ אֲשֶׁר־חַ֔י תְּשַׁ֤ע מֵאוֹת֙ שָׁנָ֔ה וּשְׁלֹשִׁ֖ים שָׁנָ֑ה וַיָּמֹֽת׃\n",
      "\\s  \n",
      " {{נוסח|וַֽיְחִי־שֵׁ֕ת|ל=וַֽיְחִי־שֵׁ֕ת בגעיה ימנית}} חָמֵ֥שׁ שָׁנִ֖ים וּמְאַ֣ת שָׁנָ֑ה וַיּ֖וֹלֶד אֶת־אֱנֽוֹשׁ׃\n",
      "  \n",
      " {{נוסח|וַֽיְחִי־שֵׁ֗ת|ל=וַֽיְחִי־שֵׁ֗ת בגעיה ימנית}} {{נוסח|אַֽחֲרֵי֙|ל=אַֽחֲרֵי֙ בגעיה ימנית}} הוֹלִיד֣וֹ אֶת־אֱנ֔וֹשׁ שֶׁ֣בַע שָׁנִ֔ים וּשְׁמֹנֶ֥ה מֵא֖וֹת שָׁנָ֑ה וַיּ֥וֹלֶד בָּנִ֖ים וּבָנֽוֹת׃\n",
      "  \n",
      " וַיִּֽהְיוּ֙ כׇּל־יְמֵי־שֵׁ֔ת שְׁתֵּ֤ים עֶשְׂרֵה֙ שָׁנָ֔ה וּתְשַׁ֥ע מֵא֖וֹת שָׁנָ֑ה וַיָּמֹֽת׃\n",
      "\\s  \n",
      " {{נוסח|וַֽיְחִ֥י|ל=וַֽיְחִ֥י בגעיה ימנית|ברויאר מחק את הגעיה (וַיְחִ֥י) ע\"פ כתי\"ל1}} אֱנ֖וֹשׁ תִּשְׁעִ֣ים שָׁנָ֑ה וַיּ֖וֹלֶד אֶת־קֵינָֽן׃\n",
      "  \n",
      " {{נוסח|וַֽיְחִ֣י|ל=וַֽיְחִ֣י (בגעיה שהיא ימנית)|ברויאר מחק את הגעיה (וַיְחִ֣י) ע\"פ כתי\"ל1}} אֱנ֗וֹשׁ {{נוסח|אַֽחֲרֵי֙|ל=אַֽחֲרֵי֙ בגעיה ימנית}} הוֹלִיד֣וֹ אֶת־קֵינָ֔ן חֲמֵ֤שׁ עֶשְׂרֵה֙ שָׁנָ֔ה וּשְׁמֹנֶ֥ה מֵא֖וֹת שָׁנָ֑ה וַיּ֥וֹלֶד בָּנִ֖ים וּבָנֽוֹת׃\n"
     ]
    }
   ],
   "source": [
    "import csv\n",
    "\n",
    "book_in = 'gen'\n",
    "book_in = sefer_name[book_in]\n",
    "chelek = sefarim[book_in]\n",
    "\n",
    "perek_start = 'ה'\n",
    "perek_end = 'ה'\n",
    "pasuk_start = 'א'\n",
    "pasuk_end = 'י'\n",
    "output = ''\n",
    "output_file = 'output.txt'\n",
    "\n",
    "with open(chelek, 'r', encoding='utf-8') as csvDataFile, open(output_file,'w',encoding='utf-8') as outfile:\n",
    "    csvReader = csv.reader(csvDataFile)\n",
    "    in_range = False\n",
    "    for row in csvReader:\n",
    "        book_perek = row[0].split('/')\n",
    "        pasuk = row[1]\n",
    "        if book_in == book_perek[0] and perek_start==book_perek[1] and pasuk_start==pasuk:\n",
    "            in_range = True\n",
    "        \n",
    "        if in_range==True:\n",
    "            line = format_parser(row[2])+aliya_parser(row[3])+text_parser(row[4])+'\\n'\n",
    "            outfile.write(line)\n",
    "            print(format_parser(row[2]),aliya_parser(row[3]),'\\n',row[4])\n",
    "        \n",
    "        if perek_end==book_perek[1] and pasuk_end==pasuk:\n",
    "            break"
   ]
  },
  {
   "cell_type": "code",
   "execution_count": null,
   "metadata": {},
   "outputs": [],
   "source": []
  }
 ],
 "metadata": {
  "kernelspec": {
   "display_name": "Python 3",
   "language": "python",
   "name": "python3"
  },
  "language_info": {
   "codemirror_mode": {
    "name": "ipython",
    "version": 3
   },
   "file_extension": ".py",
   "mimetype": "text/x-python",
   "name": "python",
   "nbconvert_exporter": "python",
   "pygments_lexer": "ipython3",
   "version": "3.7.4"
  }
 },
 "nbformat": 4,
 "nbformat_minor": 2
}
