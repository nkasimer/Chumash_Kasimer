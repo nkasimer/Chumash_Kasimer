{
 "cells": [
  {
   "cell_type": "code",
   "execution_count": 14,
   "metadata": {},
   "outputs": [],
   "source": [
    "import json, urllib"
   ]
  },
  {
   "cell_type": "code",
   "execution_count": 177,
   "metadata": {},
   "outputs": [],
   "source": [
    "with urllib.request.urlopen(\"https://raw.githubusercontent.com/hebcal/hebcal-leyning/master/src/aliyot.json\") as url:\n",
    "    aliyot = json.loads(url.read().decode())\n",
    "with urllib.request.urlopen(\"https://www.sefaria.org/api/texts/Exodus?vhe=Miqra_according_to_the_Masorah&context=0&pad=0\") as url:\n",
    "    MAPM_ex = json.loads(url.read().decode())    \n",
    "with urllib.request.urlopen(\"https://raw.githubusercontent.com/Sefaria/Sefaria-Export/master/json/Tanakh/Torah/Exodus/English/The%20Holy%20Scriptures%20A%20New%20Translation%20JPS%201917.json\") as url:\n",
    "    JPS_ex = json.loads(url.read().decode())\n",
    "with urllib.request.urlopen(\"https://raw.githubusercontent.com/Sefaria/Sefaria-Export/master/json/Tanakh/Targum/Onkelos/Torah/Onkelos%20Exodus/Hebrew/Targum%20Onkelos%2C%20vocalized%20according%20to%20the%20Yemenite%20Taj.json\") as url:\n",
    "    targ_ex = json.loads(url.read().decode())\n",
    "with urllib.request.urlopen(\"https://raw.githubusercontent.com/Sefaria/Sefaria-Export/master/json/Tanakh/Commentary/Rashi/Torah/Rashi%20on%20Exodus/Hebrew/Rashi%20Chumash%2C%20Metsudah%20Publications%2C%202009.json\") as url:\n",
    "    rashi_ex = json.loads(url.read().decode())"
   ]
  },
  {
   "cell_type": "code",
   "execution_count": 187,
   "metadata": {},
   "outputs": [],
   "source": [
    "def qkparse(string):\n",
    "    start = string.index('<span class=\\\"mam-kq\">')\n",
    "    string_before = string[0:start]\n",
    "    startk = string.index('<span class=\\\"mam-kq-k\\\">',start)\n",
    "    startk = string.index('>',startk)+2\n",
    "    endk = string.index('</span>',startk)-1\n",
    "    ktext = string[startk:endk]\n",
    "    startq = string.index('<span class=\\\"mam-kq-q\\\">')\n",
    "    startq = string.index('>',startq)+2\n",
    "    endq = string.index('</span>',startq)-1\n",
    "    qtext=string[startq:endq]\n",
    "    end = string.index('</span></span>',endq)\n",
    "    if \" \" in string[end:]:\n",
    "        end = string.index(' ',end)\n",
    "    else:\n",
    "        end = string.index('׃',end)\n",
    "    output = '\\\\qk{'+qtext+'}{'+ktext+'}'\n",
    "    string_after = string[end:]\n",
    "    return string_before+output+string_after"
   ]
  },
  {
   "cell_type": "code",
   "execution_count": 272,
   "metadata": {},
   "outputs": [],
   "source": [
    "def removeformatting(text):\n",
    "    text = text.replace(\"{פ}\",r\"\\petucha \")\n",
    "    text = text.replace(\"{ס}\",r\"\\setuma \")\n",
    "    text = text.replace(\"<span>\",\"\")\n",
    "    text = text.replace(\"</span>\",\"\")\n",
    "    text = text.replace(\"<br>\",\"\")\n",
    "    text = text.replace(\"<span class=\\\"mam-kq-trivial\\\">\",\"\")\n",
    "    text = text.replace(\"<b>׀</b>\",r\"\\legarmeh \")\n",
    "    text = text.replace(\"<small>׀</small>\",r\"\\pasek \")\n",
    "    text = text.replace(\"<big>\",r\"\\large \")\n",
    "    text = text.replace(\"</big>\",r\"\\normalsize \")\n",
    "    text = text.replace(\"<sup>*</sup><i class=\\\"footnote\\\">(\",r\"\\note{\")\n",
    "    text = text.replace(')</i>',r\"}\")\n",
    "    if \"<\" in text:\n",
    "        print(text)\n",
    "    return text"
   ]
  },
  {
   "cell_type": "code",
   "execution_count": 262,
   "metadata": {},
   "outputs": [],
   "source": [
    "def parserashi(content, chap, vs):\n",
    "    rashi_chap = content[\"text\"][chap-1]\n",
    "    if len(rashi_chap)<vs:\n",
    "        return \"\"\n",
    "    rashi_list = rashi_chap[vs-1]\n",
    "    rashi_text = \"\"\n",
    "    for comment in rashi_list:\n",
    "        comment = comment.replace(\"<b>\",r\"\\rashiDH{\")\n",
    "        comment = comment.replace(\"</b>\",r\"}\")\n",
    "        comment = comment.replace(\"<small>\",\"\")\n",
    "        comment = comment.replace(\"</small>\",\"\")\n",
    "        comment = comment.replace(r\"\\\"\",\"״\")\n",
    "        comment = comment.replace(\"\\\"\",\"״\")\n",
    "        comment = comment.replace(r\"'\",\"׳\")\n",
    "        comment = comment.replace(r\":\",\"׃\")\n",
    "        rashi_text += r\"\\rashi{\"+comment+r\"}\"\n",
    "    return rashi_text"
   ]
  },
  {
   "cell_type": "code",
   "execution_count": 333,
   "metadata": {},
   "outputs": [],
   "source": [
    "def nonalpha_remover(word):\n",
    "    no_cant_word = ''\n",
    "    for letter in word:\n",
    "        if letter.isalpha() == True or letter == \"־\":\n",
    "            no_cant_word = no_cant_word + letter\n",
    "    return no_cant_word"
   ]
  },
  {
   "cell_type": "code",
   "execution_count": 217,
   "metadata": {},
   "outputs": [],
   "source": [
    "def parsealiyot(aliyot,book_num,vs_id):\n",
    "    aliyot = dict(reversed(list(aliyot.items())))\n",
    "    combo = None\n",
    "    for parsha in aliyot.values():\n",
    "        if parsha[\"book\"] != book_num:\n",
    "            continue\n",
    "        elif parsha[\"fullkriyah\"][\"1\"][\"b\"] == vs_id and \"combined\" not in parsha.keys():\n",
    "            return [\"parsha\",nonalpha_remover(parsha[\"hebrew\"])]\n",
    "        elif parsha[\"fullkriyah\"][\"7\"][\"e\"] == vs_id and \"combined\" not in parsha.keys():\n",
    "            return [\"parsha\",\"end\"]\n",
    "        elif \"combined\" in parsha.keys():\n",
    "            aliya_number = 1\n",
    "            for aliya in parsha[\"fullkriyah\"].values():\n",
    "                if aliya[\"b\"] == vs_id:\n",
    "                    combo = aliya_number\n",
    "                aliya_number += 1\n",
    "        else:\n",
    "            aliya_number = 1\n",
    "            for aliya in parsha[\"fullkriyah\"].values():\n",
    "                if aliya[\"b\"] == vs_id:\n",
    "                    if combo == None:\n",
    "                        return [\"aliya\",aliya_number]\n",
    "                    else:\n",
    "                        return [\"combo\",[aliya_number, combo]]\n",
    "                aliya_number += 1\n",
    "            aliya_number = 1\n",
    "            if \"weekday\" in parsha.keys():\n",
    "                for weekday in parsha[\"weekday\"].values():\n",
    "                    if weekday[\"b\"]==vs_id:\n",
    "                        return [\"weekday\",aliya_number]\n",
    "                    elif vs_id == parsha[\"weekday\"][\"3\"][\"e\"] and vs_id != parsha[\"fullkriyah\"][\"1\"][\"e\"]:\n",
    "                        return [\"weekday\",4]\n",
    "                    aliya_number += 1\n",
    "    return"
   ]
  },
  {
   "cell_type": "code",
   "execution_count": 299,
   "metadata": {},
   "outputs": [],
   "source": [
    "weekday_aliya_names = [None, None,\"לוי\",\"ישראל\",\"ע״כ בחול\"]\n",
    "shabbat_aliya_names = [None,None,\"שני\",\"שלישי\",\"רביעי\",\"חמישי\",\"ששי\",\"שביעי\",\"מפטיר\"]"
   ]
  },
  {
   "cell_type": "code",
   "execution_count": 345,
   "metadata": {},
   "outputs": [],
   "source": [
    "def make_chumash(heb, targ, eng, rashi, parsha_data, book):\n",
    "    versecounter = 1\n",
    "    chapcounter = 1\n",
    "    output = []\n",
    "    for chapter in heb[\"he\"]:\n",
    "        for verse in chapter:\n",
    "            id_str = str(chapcounter)+\":\"+str(versecounter)\n",
    "            verse_he = verse\n",
    "            while '<span class=\\\"mam-kq\\\">' in verse_he:\n",
    "                verse_he = qkparse(verse_he)\n",
    "            verse_he = removeformatting(verse_he)\n",
    "            heb_id = parsealiyot(parsha_data, 2, id_str)\n",
    "            if heb_id == None:\n",
    "                if versecounter == 1:\n",
    "                    versetext_he = r'\\Roman{chap}'\n",
    "                else:\n",
    "                    versetext_he = r\"\\arabic{verse}\"\n",
    "            elif heb_id[0] == \"parsha\" and heb_id[1]!= \"end\":\n",
    "                if chapcounter != 1:\n",
    "                    #output.append(r\"\\end{longtable}\")\n",
    "                    output.append(r\"}\")\n",
    "                #add end-of-parsha note here\n",
    "                output.append(r\"\\newparsha{\"+heb_id[1]+\"}\")\n",
    "                versetext_he = r\"\\textsf{\"+heb_id[1]+\"}\"\n",
    "                output.append(r\"\\parshabody{\")\n",
    "                if versecounter == 1:\n",
    "                    versetext_he = r'\\Roman{chap}'\n",
    "                else:\n",
    "                    versetext_he = r\"\\arabic{verse}\"\n",
    "            elif heb_id[0] == \"weekday\":\n",
    "                aliya_text = weekday_aliya_names[heb_id[1]]\n",
    "                versetext_he = r\"\\textsf{\"+aliya_text+\"}\"\n",
    "            elif heb_id[0] == \"combined\":\n",
    "                aliya_text = [shabbat_aliya_names[heb_id[1][1]],shabbat_aliya_names[heb_id[1][0]]]\n",
    "                versetext_he = r\"\\textsf{\"+aliya_text[0]+r\"\\newline(\"+aliya_text[1]+\")}\"\n",
    "            elif heb_id[0] == \"aliya\":\n",
    "                aliya_text = shabbat_aliya_names[heb_id[1]]\n",
    "                versetext_he = r\"\\textsf{\"+aliya_text+\"}\"\n",
    "            if versecounter == 1:\n",
    "                versetext_en = r'\\Roman{chap}'\n",
    "            else:\n",
    "                versetext_en = r\"\\arabic{verse}\"\n",
    "            rashi_pasuk = parserashi(rashi,chapcounter,versecounter)\n",
    "            targ_vs = targ[\"text\"][chapcounter-1][versecounter-1]\n",
    "            english = eng[\"text\"][chapcounter-1][versecounter-1]\n",
    "            output.append(r'\\threeverse{'+versetext_he+\"}%Ex.\"+str(chapcounter)+r':'+str(versecounter))\n",
    "            if rashi_pasuk != \"\":\n",
    "                output.append(r'{'+verse_he)\n",
    "                output.append(rashi_pasuk+\"}\")\n",
    "            else:\n",
    "                output.append(r'{'+verse_he+'}')\n",
    "            output.append(r\"{\"+targ_vs+r\"}\")\n",
    "            output.append(\"{\"+english+r\"}{\"+versetext_en+r\"}\")\n",
    "            versecounter += 1\n",
    "        chapcounter += 1\n",
    "        output.append(r\"\\newperek\")\n",
    "        versecounter = 1\n",
    "    output[-1] = r\"}\"\n",
    "    return output"
   ]
  },
  {
   "cell_type": "code",
   "execution_count": 346,
   "metadata": {},
   "outputs": [],
   "source": [
    "result = make_chumash(MAPM_ex, targ_ex, JPS_ex, rashi_ex, aliyot, 2)"
   ]
  },
  {
   "cell_type": "code",
   "execution_count": 347,
   "metadata": {},
   "outputs": [],
   "source": [
    "def TeXwriter(outputfile,content):\n",
    "    with open(outputfile, 'w', encoding='utf-8') as outfile:\n",
    "        for line in content:\n",
    "            outfile.write(line)\n",
    "            outfile.write(\"\\n\")"
   ]
  },
  {
   "cell_type": "code",
   "execution_count": 348,
   "metadata": {},
   "outputs": [],
   "source": [
    "TeXwriter(\"exodus_multi.tex\",result)"
   ]
  },
  {
   "cell_type": "markdown",
   "metadata": {},
   "source": []
  }
 ],
 "metadata": {
  "kernelspec": {
   "display_name": "Python 3",
   "language": "python",
   "name": "python3"
  },
  "language_info": {
   "codemirror_mode": {
    "name": "ipython",
    "version": 3
   },
   "file_extension": ".py",
   "mimetype": "text/x-python",
   "name": "python",
   "nbconvert_exporter": "python",
   "pygments_lexer": "ipython3",
   "version": "3.7.4"
  }
 },
 "nbformat": 4,
 "nbformat_minor": 2
}
