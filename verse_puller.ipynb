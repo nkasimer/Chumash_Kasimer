{
 "cells": [
  {
   "cell_type": "markdown",
   "metadata": {},
   "source": [
    "#  Imports verses from Tanakh into a LaTeX-friendly format"
   ]
  },
  {
   "cell_type": "code",
   "execution_count": null,
   "metadata": {},
   "outputs": [],
   "source": [
    "#this defines which book is where and what the exact names are\n",
    "#to look up the names properly"
   ]
  },
  {
   "cell_type": "code",
   "execution_count": 1,
   "metadata": {},
   "outputs": [],
   "source": [
    "torah = 'torah.csv'\n",
    "megillot = 'chamesh megillot.csv'\n",
    "navi1 = 'neviim rishonim.csv'\n",
    "navi2 = 'neviim achronim.csv'\n",
    "emet = 'sifrei emet.csv'\n",
    "ketuvim = 'ketuvim.csv'"
   ]
  },
  {
   "cell_type": "code",
   "execution_count": 2,
   "metadata": {},
   "outputs": [],
   "source": [
    "sefarim = {\n",
    "    \"ספר בראשית\":torah,\n",
    "    \"ספר שמות\":torah,\n",
    "    \"ספר ויקרא\":torah,\n",
    "    \"ספר במדבר\":torah,\n",
    "    \"ספר דברים\":torah,\n",
    "    \"ספר יהושע\":navi1,\n",
    "    \"ספר שופטים\":navi1,\n",
    "    \"ספר שמואל\":navi1,\n",
    "    \"ספר מלכים\":navi1,\n",
    "    \"ספר ישעיהו\":navi2,\n",
    "    \"ספר ירמיהו\":navi2,\n",
    "    \"ספר יחזקאל\":navi2,\n",
    "    \"ספר תרי עשר\":navi2,\n",
    "    \"ספר תהלים\":emet,\n",
    "    \"ספר משלי\":emet,\n",
    "    \"ספר איוב\":emet,\n",
    "    \"מגילת שיר השירים\":megillot,\n",
    "    \"מגילת רות\":megillot,\n",
    "    \"מגילת איכה\":megillot,\n",
    "    \"מגילת קהלת\":megillot,\n",
    "    \"מגילת אסתר\":megillot,\n",
    "    \"ספר דניאל\":ketuvim\n",
    "    #needs support for  aleph/bet, trei-asar, ezra-nehemiah, divrei-hayamim\n",
    "}"
   ]
  },
  {
   "cell_type": "code",
   "execution_count": 3,
   "metadata": {},
   "outputs": [],
   "source": [
    "sefer_name = {\n",
    "    \"gen\":\"ספר בראשית\",\n",
    "    \"ex\":\"ספר שמות\",\n",
    "    \"lev\":\"ספר ויקרא\",\n",
    "    \"num\":\"ספר במדבר\",\n",
    "    \"dev\":\"ספר דברים\",\n",
    "    \"josh\":\"ספר יהושע\",\n",
    "    \"judges\":\"ספר שופטים\",\n",
    "    \"sam\":\"ספר שמואל\",\n",
    "    \"kings\":\"ספר מלכים\",\n",
    "    \"is\":\"ספר ישעיהו\",\n",
    "    \"jer\":\"ספר ירמיהו\",\n",
    "    \"ezek\":\"ספר יחזקאל\",\n",
    "    #\"ספר תרי עשר\",\n",
    "    \"psalms\":\"ספר תהלים\",\n",
    "    \"prov\":\"ספר משלי\",\n",
    "    \"job\":\"ספר איוב\",\n",
    "    \"song\":\"מגילת שיר השירים\",\n",
    "    \"ruth\":\"מגילת רות\",\n",
    "    \"lam\":\"מגילת איכה\",\n",
    "    \"ecc\":\"מגילת קהלת\",\n",
    "    \"esther\":\"מגילת אסתר\",\n",
    "    \"dan\":\"ספר דניאל\"\n",
    "    #needs support for  aleph/bet, trei-asar, ezra-nehemiah, divrei-hayamim\n",
    "}"
   ]
  },
  {
   "cell_type": "code",
   "execution_count": 4,
   "metadata": {},
   "outputs": [],
   "source": [
    "#this parses the formatting notes in the 3rd column of the spreadsheet"
   ]
  },
  {
   "cell_type": "code",
   "execution_count": 5,
   "metadata": {},
   "outputs": [],
   "source": [
    "format = {\n",
    "    \"//{{פפ}}//\":\"\\p\",\n",
    "    \"{{סס}}\":\"\\s\",\n",
    "    \"{{פפ}}\":\"\\p\",\n",
    "    \"{{פפפ}}\":\"\\p\",\n",
    "    \"{{רווח בסוף שורה}}\":\"\\p\",\n",
    "    \"{{ססס}}\":\"\\s\",\n",
    "    \"{{סס2}}\":\"\\s\",\n",
    "    \"//{{סס}}\":\"\\s\",\n",
    "    \"{{פפ}}//\":\"\\p\",\n",
    "    \"{{מ:אין פרשה בתחילת פרק}}\":\"\",\n",
    "    \"{{ר4}}\":\"\\hfill\"\n",
    "    #{{פסקא באמצע פסוק|משתנה|הערות}}\n",
    "}"
   ]
  },
  {
   "cell_type": "code",
   "execution_count": 6,
   "metadata": {},
   "outputs": [],
   "source": [
    "def format_parser(format_in):\n",
    "    blank = '__'\n",
    "    new_book = 'ספר חדש'\n",
    "    \n",
    "    if format_in == blank:\n",
    "        return ''\n",
    "    elif format_in in format:\n",
    "        return format[format_in]\n",
    "    elif new_book in format_in:\n",
    "        index = format_in.find('|')\n",
    "        book_name_start = index+1\n",
    "        book_name_end = format_in.find('}',index)\n",
    "        book_name = format_in[book_name_start:book_name_end]\n",
    "        return '\\\\newbook{'+book_name+'}'\n",
    "    else:\n",
    "        return format_in"
   ]
  },
  {
   "cell_type": "code",
   "execution_count": 7,
   "metadata": {},
   "outputs": [],
   "source": [
    "#this looks for a note about the aliya in the 4th column of the spreadsheet.\n",
    "#maybe functionality for sedarim will be added over time."
   ]
  },
  {
   "cell_type": "code",
   "execution_count": 8,
   "metadata": {},
   "outputs": [],
   "source": [
    "#this would change aliyot info to exact commands\n",
    "#the current plan is to just have the aliya text be the argument of the \\aliya{} command, so this is not needed.\n",
    "#if used, this needs support for double parshiyot.\n",
    "aliya_commands = {\n",
    "    \"[לוי]\":\"\\\\aliya{levi}\",\n",
    "    \"[ישראל]\":\"\\\\aliya{yisrael}\",\n",
    "    \"[ע\\\"כ ישראל]\":\"\\\\aliya{end_yisrael}\",\n",
    "    \"שני\":\"\\\\aliya{sheni}\",\n",
    "    \"שלישי\":\"\\\\aliya{shelishi}\",\n",
    "    \"רביעי\":\"\\\\aliya{revii}\",\n",
    "    \"חמישי\":\"\\\\aliya{chamishi}\",\n",
    "    \"ששי\":\"\\\\aliya{shishi}\",\n",
    "    \"שביעי\":\"\\\\aliya{shevii}\",\n",
    "    \"מפטיר\":\"\\\\aliya{maftir}\"\n",
    "}"
   ]
  },
  {
   "cell_type": "code",
   "execution_count": 9,
   "metadata": {},
   "outputs": [],
   "source": [
    "def aliya_parser(aliya_in):\n",
    "    aliya = 'עלייה'\n",
    "    aliya_command = ''\n",
    "    seder_command = ''\n",
    "    output = ''\n",
    "    if aliya in aliya_in:\n",
    "        aliya_start=aliya_in.find(aliya)\n",
    "        while aliya_start<len(aliya_in) and aliya_in[aliya_start]!='=':\n",
    "            aliya_start=aliya_start+1\n",
    "        aliya_end = aliya_start+1\n",
    "        while aliya_end<len(aliya_in) and aliya_in[aliya_end]!='}':\n",
    "            aliya_end = aliya_end+1\n",
    "        aliya_number = aliya_in[aliya_start+1:aliya_end]\n",
    "        if '\\'' in aliya_number:\n",
    "            parsha_name = aliya_number.replace('\\'','')\n",
    "            aliya_command = '\\\\parsha{'+parsha_name+'}'\n",
    "        else:\n",
    "            aliya_command = '\\\\aliya{'+aliya_number+'}'\n",
    "    \n",
    "    seder = 'סדר'\n",
    "    if seder in aliya_in:\n",
    "        seder_start=aliya_in.find(seder)\n",
    "        while seder_start<len(aliya_in) and aliya_in[seder_start]!='=':\n",
    "            seder_start=seder_start+1\n",
    "        seder_end = seder_start+1\n",
    "        while seder_end<len(aliya_in) and aliya_in[seder_end]!='|':\n",
    "            seder_end = seder_end+1\n",
    "        seder_command = '\\seder{'+aliya_in[seder_start+1:seder_end]+'}'\n",
    "    \n",
    "    output = seder_command + aliya_command\n",
    "    return output"
   ]
  },
  {
   "cell_type": "code",
   "execution_count": 10,
   "metadata": {},
   "outputs": [],
   "source": [
    "#this parses notes embedded in the tanakh-text."
   ]
  },
  {
   "cell_type": "code",
   "execution_count": 11,
   "metadata": {},
   "outputs": [],
   "source": [
    "text_format = {\n",
    "    \"{{מ:לגרמיה}}\":\" ׀ \",\n",
    "    \"{{מ:פסק}}\":\" ׀ \"\n",
    "    \n",
    "}"
   ]
  },
  {
   "cell_type": "code",
   "execution_count": 45,
   "metadata": {},
   "outputs": [],
   "source": [
    "def nusach_parser(note):\n",
    "    main_nusach_start = note.find('נוסח')+5\n",
    "    main_nusach_end = note.find('=',main_nusach_start)-1\n",
    "    main_nusach = note[main_nusach_start:main_nusach_end]\n",
    "    secondary_nusach = note[main_nusach_end+2:len(note)-4]\n",
    "    output = main_nusach+'\\\\footnote{'+secondary_nusach+'}'\n",
    "    return output"
   ]
  },
  {
   "cell_type": "code",
   "execution_count": 46,
   "metadata": {},
   "outputs": [],
   "source": [
    "def text_parser(pasuk):\n",
    "    #this loop replaces the items which can be replaced by a specific character(s) using the text_format dict\n",
    "    for entry in text_format:\n",
    "        if entry in pasuk:\n",
    "            pasuk = pasuk.replace(entry,text_format[entry])\n",
    "    \n",
    "    #this parses the nusach-notes and turns them into footnotes, using the nusach_parser\n",
    "    nusach = 'נוסח'\n",
    "    while nusach in pasuk:\n",
    "        index = pasuk.find(nusach)\n",
    "        note_start = index-2\n",
    "        extra_brace = 0\n",
    "        while index<len(pasuk) and pasuk[index]!='}':\n",
    "            if pasuk[index]=='{':\n",
    "                extra_brace = extra_brace+1\n",
    "            index = index+1\n",
    "        while index<len(pasuk) and extra_brace != 0:    \n",
    "            if pasuk[index]=='}':\n",
    "                extra_brace = extra_brace-1\n",
    "            index = index+1\n",
    "        note_end = pasuk.find('}}',index)+2\n",
    "        nusach_note = pasuk[note_start:note_end]\n",
    "        nusach_new = nusach_parser(nusach_note)\n",
    "        pasuk = pasuk.replace(nusach_note,nusach_new)\n",
    "    \n",
    "    #needs kri ukhtiv\n",
    "    kq = 'כו\"ק'\n",
    "    qk = 'קו\"כ'\n",
    "    qk_em='קו\"כ-אם'\n",
    "    kamatz_note = 'מ:קמץ'\n",
    "    if kamatz_note in pasuk:\n",
    "        index = pasuk.find(kamatz_note)\n",
    "        note_start = index-2\n",
    "        note_end = pasuk.find('}}',index)+2\n",
    "        note_to_remove = pasuk[note_start:note_end]\n",
    "        text_end = note_to_remove.find('|',10)\n",
    "        final_text = note_to_remove[10:text_end]\n",
    "        pasuk = pasuk.replace(note_to_remove,final_text)\n",
    "    \n",
    "    #needs special characters\n",
    "    #needs words with alternate kamatz katan forms\n",
    "    return pasuk"
   ]
  },
  {
   "cell_type": "code",
   "execution_count": 47,
   "metadata": {},
   "outputs": [],
   "source": [
    "#this pulls verses from the Torah and runs them through the above parsers"
   ]
  },
  {
   "cell_type": "code",
   "execution_count": 48,
   "metadata": {
    "scrolled": false
   },
   "outputs": [
    {
     "name": "stdout",
     "output_type": "stream",
     "text": [
      "\n",
      "\n",
      "\\footnote{}ו\\footnote{}ַ\\footnote{}י\\footnote{}ּ\\footnote{}ֹ\\footnote{}֕\\footnote{}א\\footnote{}מ\\footnote{}ֶ\\footnote{}ר\\footnote{} \\footnote{}ב\\footnote{}ּ\\footnote{}ָ\\footnote{}ר\\footnote{}֥\\footnote{}ו\\footnote{}ּ\\footnote{}ך\\footnote{}ְ\\footnote{} \\footnote{}י\\footnote{}ְ\\footnote{}ה\\footnote{}ֹ\\footnote{}ו\\footnote{}ָ\\footnote{}֖\\footnote{}ה\\footnote{}|\\footnote{}כ\\footnote{}א\\footnote{}ן\\footnote{} \\footnote{}מ\\footnote{}ת\\footnote{}ח\\footnote{}י\\footnote{}ל\\footnote{} \\footnote{}כ\\footnote{}ת\\footnote{}י\\footnote{}\"\\footnote{}ש\\footnote{}\\\\footnote{}f\\footnote{}o\\footnote{}o\\footnote{}t\\footnote{}n\\footnote{}o\\footnote{}t\\footnote{}e\\footnote{}{\\footnote{}{\\footnote{}{\\footnote{}נ\\footnote{}ו\\footnote{}ס\\footnote{}ח\\footnote{}|\\footnote{}ב\\footnote{}ּ\\footnote{}ָ\\footnote{}ר\\footnote{}֥\\footnote{}ו\\footnote{}ּ\\footnote{}ך\\footnote{}ְ\\footnote{} \\footnote{}י\\footnote{}ְ\\footnote{}ה\\footnote{}ֹ\\footnote{}ו\\footnote{}ָ\\footnote{}֖\\footnote{}ה\\footnote{}|\\footnote{}כ\\footnote{}א\\footnote{}ן\\footnote{} \\footnote{}מ\\footnote{}ת\\footnote{}ח\\footnote{}י\\footnote{}ל\\footnote{} \\footnote{}כ\\footnote{}ת\\footnote{}י\\footnote{}}\\footnote{} \\footnote{}א\\footnote{}ֱ\\footnote{}ל\\footnote{}ֹ\\footnote{}֣\\footnote{}ה\\footnote{}ֵ\\footnote{}י\\footnote{} \\footnote{}ש\\footnote{}ׁ\\footnote{}ֵ\\footnote{}֑\\footnote{}ם\\footnote{} \\footnote{}ו\\footnote{}ִ\\footnote{}י\\footnote{}ה\\footnote{}ִ\\footnote{}֥\\footnote{}י\\footnote{} \\footnote{}כ\\footnote{}ְ\\footnote{}נ\\footnote{}ַ\\footnote{}֖\\footnote{}ע\\footnote{}ַ\\footnote{}ן\\footnote{} \\footnote{}ע\\footnote{}ֶ\\footnote{}֥\\footnote{}ב\\footnote{}ֶ\\footnote{}ד\\footnote{} \\footnote{}ל\\footnote{}ָ\\footnote{}ֽ\\footnote{}מ\\footnote{}ו\\footnote{}ֹ\\footnote{}׃\\footnote{}\n"
     ]
    }
   ],
   "source": [
    "import csv\n",
    "\n",
    "book_in = 'gen'\n",
    "book_in = sefer_name[book_in]\n",
    "chelek = sefarim[book_in]\n",
    "\n",
    "perek_start = 'ט'\n",
    "perek_end = 'ט'\n",
    "pasuk_start = 'כו'\n",
    "pasuk_end = 'כו'\n",
    "output = ''\n",
    "output_file = 'output.txt'\n",
    "\n",
    "with open(chelek, 'r', encoding='utf-8') as csvDataFile, open(output_file,'w',encoding='utf-8') as outfile:\n",
    "    csvReader = csv.reader(csvDataFile)\n",
    "    in_range = False\n",
    "    for row in csvReader:\n",
    "        if row[1]=='0' or row[1]=='תתת':\n",
    "            continue\n",
    "        book_perek = row[0].split('/')\n",
    "        pasuk = row[1]\n",
    "        if book_in == book_perek[0] and perek_start==book_perek[1] and pasuk_start==pasuk:\n",
    "            in_range = True\n",
    "        \n",
    "        if in_range==True:\n",
    "            if pasuk == 'א':\n",
    "                perek_command = '\\\\perek{'+book_perek[1]+'}'\n",
    "            else:\n",
    "                perek_command = ''\n",
    "            par = format_parser(row[2])+perek_command+'\\n'\n",
    "            aliya = aliya_parser(row[3])+'\\n'\n",
    "            text = text_parser(row[4])\n",
    "            line = par+aliya+text\n",
    "            print(line)\n",
    "            outfile.write(line)        \n",
    "        if perek_end==book_perek[1] and pasuk_end==pasuk:\n",
    "            break"
   ]
  },
  {
   "cell_type": "code",
   "execution_count": null,
   "metadata": {},
   "outputs": [],
   "source": []
  }
 ],
 "metadata": {
  "kernelspec": {
   "display_name": "Python 3",
   "language": "python",
   "name": "python3"
  },
  "language_info": {
   "codemirror_mode": {
    "name": "ipython",
    "version": 3
   },
   "file_extension": ".py",
   "mimetype": "text/x-python",
   "name": "python",
   "nbconvert_exporter": "python",
   "pygments_lexer": "ipython3",
   "version": "3.7.4"
  }
 },
 "nbformat": 4,
 "nbformat_minor": 2
}
