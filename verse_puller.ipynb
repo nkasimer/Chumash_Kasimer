{
 "cells": [
  {
   "cell_type": "markdown",
   "metadata": {},
   "source": [
    "#  Imports verses from Tanakh into a LaTeX-friendly format"
   ]
  },
  {
   "cell_type": "code",
   "execution_count": null,
   "metadata": {},
   "outputs": [],
   "source": [
    "#this parses the formatting notes in the 3rd column of the spreadsheet"
   ]
  },
  {
   "cell_type": "code",
   "execution_count": 54,
   "metadata": {},
   "outputs": [],
   "source": [
    "format = {\n",
    "   \"//{{פפ}}//\":\"\\p\",\n",
    "   \"{{סס}}\":\"\\s\"\n",
    "}"
   ]
  },
  {
   "cell_type": "code",
   "execution_count": 62,
   "metadata": {},
   "outputs": [],
   "source": [
    "def format_parser(format_in):\n",
    "    blank = '__'\n",
    "    if format_in == blank:\n",
    "        return ''\n",
    "    elif format_in in format:\n",
    "        return format[format_in]\n",
    "    else:\n",
    "        return format_in"
   ]
  },
  {
   "cell_type": "code",
   "execution_count": null,
   "metadata": {},
   "outputs": [],
   "source": [
    "#this looks for a note about the aliya in the 4th column of the spreadsheet.\n",
    "#maybe functionality for sedarim will be added over time."
   ]
  },
  {
   "cell_type": "code",
   "execution_count": 92,
   "metadata": {},
   "outputs": [],
   "source": [
    "def aliya_parser(aliya_in):\n",
    "    aliya = 'עלייה'\n",
    "    if aliya in aliya_in:\n",
    "        aliya_start=0\n",
    "        while aliya_start<len(aliya_in) and aliya_in[aliya_start]!='=':\n",
    "            aliya_start=aliya_start+1\n",
    "        aliya_end = aliya_start+1\n",
    "        while aliya_end<len(aliya_in) and aliya_in[aliya_end]!='}':\n",
    "            aliya_end = aliya_end+1\n",
    "        return aliya_in[aliya_start+1:aliya_end]\n",
    "    else:\n",
    "        return ''"
   ]
  },
  {
   "cell_type": "code",
   "execution_count": null,
   "metadata": {},
   "outputs": [],
   "source": [
    "#this parses notes embedded in the tanakh-text."
   ]
  },
  {
   "cell_type": "code",
   "execution_count": 96,
   "metadata": {},
   "outputs": [],
   "source": [
    "def text_parser(pasuk_in):\n",
    "    #needs support for kri ukhtiv\n",
    "    #needs support for footnotes\n",
    "    #needs support for special characters\n",
    "    return pasuk_in"
   ]
  },
  {
   "cell_type": "code",
   "execution_count": 97,
   "metadata": {},
   "outputs": [],
   "source": [
    "#this pulls verses from the Torah and runs them through the above parsers"
   ]
  },
  {
   "cell_type": "code",
   "execution_count": 98,
   "metadata": {
    "scrolled": false
   },
   "outputs": [
    {
     "name": "stdout",
     "output_type": "stream",
     "text": [
      "{{מ:ספר חדש|שמות}} \n",
      " א|עלייה='''שמות''' \n",
      " וְאֵ֗לֶּה שְׁמוֹת֙ בְּנֵ֣י יִשְׂרָאֵ֔ל הַבָּאִ֖ים מִצְרָ֑יְמָה אֵ֣ת יַעֲקֹ֔ב אִ֥ישׁ וּבֵית֖וֹ בָּֽאוּ׃\n",
      " \n",
      "  \n",
      " רְאוּבֵ֣ן שִׁמְע֔וֹן לֵוִ֖י וִיהוּדָֽה׃\n",
      " \n",
      "  \n",
      " יִשָּׂשכָ֥ר זְבוּלֻ֖ן {{נוסח|וּבִנְיָמִֽן|=שש1 ובדפוסים|ל=וּבְנְיָמִֽן (בי\"ת בשתי נקודות שוא!)|הערות דותן והמקליד}}׃\n",
      " \n",
      "  \n",
      " דָּ֥ן וְנַפְתָּלִ֖י גָּ֥ד וְאָשֵֽׁר׃\n",
      " \n",
      "  \n",
      " {{נוסח|וַֽיְהִ֗י|ל=וַֽיְהִ֗י בגעיה ימנית}} כׇּל־נֶ֛פֶשׁ יֹצְאֵ֥י יֶֽרֶךְ־יַעֲקֹ֖ב שִׁבְעִ֣ים נָ֑פֶשׁ וְיוֹסֵ֖ף הָיָ֥ה בְמִצְרָֽיִם׃\n",
      " \n",
      "  \n",
      " וַיָּ֤מׇת יוֹסֵף֙ וְכׇל־אֶחָ֔יו וְכֹ֖ל הַדּ֥וֹר הַהֽוּא׃\n",
      " \n",
      "  \n",
      " וּבְנֵ֣י יִשְׂרָאֵ֗ל פָּר֧וּ וַֽיִּשְׁרְצ֛וּ וַיִּרְבּ֥וּ וַיַּֽעַצְמ֖וּ בִּמְאֹ֣ד מְאֹ֑ד וַתִּמָּלֵ֥א הָאָ֖רֶץ אֹתָֽם׃\n",
      "\\p \n",
      " [לוי] \n",
      " וַיָּ֥קׇם מֶֽלֶךְ־חָדָ֖שׁ עַל־מִצְרָ֑יִם אֲשֶׁ֥ר לֹֽא־יָדַ֖ע אֶת־יוֹסֵֽף׃\n"
     ]
    }
   ],
   "source": [
    "import csv\n",
    "torah = 'torah.csv'\n",
    "book_in = 'ספר שמות'\n",
    "perek_start = 'א'\n",
    "perek_end = 'א'\n",
    "pasuk_start = 'א'\n",
    "pasuk_end = 'ח'\n",
    "output = ''\n",
    "with open(torah, 'r', encoding='utf-8') as csvDataFile:\n",
    "    csvReader = csv.reader(csvDataFile)\n",
    "    in_range = False\n",
    "    for row in csvReader:\n",
    "        book_perek = row[0].split('/')\n",
    "        pasuk = row[1]\n",
    "        if book_in == book_perek[0] and perek_start==book_perek[1] and pasuk_start==pasuk:\n",
    "            in_range = True\n",
    "        \n",
    "        if in_range==True:\n",
    "            output = output+format_parser(row[2])+aliya_parser(row[3])+text_parser(row[4])\n",
    "            print(format_parser(row[2]),'\\n',aliya_parser(row[3]),'\\n',row[4])\n",
    "        \n",
    "        if book_in == book_perek[0] and perek_end==book_perek[1] and pasuk_end==pasuk:\n",
    "            break"
   ]
  },
  {
   "cell_type": "code",
   "execution_count": 95,
   "metadata": {},
   "outputs": [
    {
     "data": {
      "text/plain": [
       "'{{מ:ספר חדש|שמות}}א|עלייה=\\'\\'\\'שמות\\'\\'\\'וְאֵ֗לֶּה שְׁמוֹת֙ בְּנֵ֣י יִשְׂרָאֵ֔ל הַבָּאִ֖ים מִצְרָ֑יְמָה אֵ֣ת יַעֲקֹ֔ב אִ֥ישׁ וּבֵית֖וֹ בָּֽאוּ׃רְאוּבֵ֣ן שִׁמְע֔וֹן לֵוִ֖י וִיהוּדָֽה׃יִשָּׂשכָ֥ר זְבוּלֻ֖ן {{נוסח|וּבִנְיָמִֽן|=שש1 ובדפוסים|ל=וּבְנְיָמִֽן (בי\"ת בשתי נקודות שוא!)|הערות דותן והמקליד}}׃דָּ֥ן וְנַפְתָּלִ֖י גָּ֥ד וְאָשֵֽׁר׃{{נוסח|וַֽיְהִ֗י|ל=וַֽיְהִ֗י בגעיה ימנית}} כׇּל־נֶ֛פֶשׁ יֹצְאֵ֥י יֶֽרֶךְ־יַעֲקֹ֖ב שִׁבְעִ֣ים נָ֑פֶשׁ וְיוֹסֵ֖ף הָיָ֥ה בְמִצְרָֽיִם׃וַיָּ֤מׇת יוֹסֵף֙ וְכׇל־אֶחָ֔יו וְכֹ֖ל הַדּ֥וֹר הַהֽוּא׃וּבְנֵ֣י יִשְׂרָאֵ֗ל פָּר֧וּ וַֽיִּשְׁרְצ֛וּ וַיִּרְבּ֥וּ וַיַּֽעַצְמ֖וּ בִּמְאֹ֣ד מְאֹ֑ד וַתִּמָּלֵ֥א הָאָ֖רֶץ אֹתָֽם׃\\\\p[לוי]וַיָּ֥קׇם מֶֽלֶךְ־חָדָ֖שׁ עַל־מִצְרָ֑יִם אֲשֶׁ֥ר לֹֽא־יָדַ֖ע אֶת־יוֹסֵֽף׃'"
      ]
     },
     "execution_count": 95,
     "metadata": {},
     "output_type": "execute_result"
    }
   ],
   "source": [
    "output"
   ]
  },
  {
   "cell_type": "markdown",
   "metadata": {},
   "source": [
    "## Imports verses from megillot"
   ]
  },
  {
   "cell_type": "code",
   "execution_count": null,
   "metadata": {},
   "outputs": [],
   "source": [
    "import csv\n",
    "megillot = 'chamesh megillot.csv'"
   ]
  },
  {
   "cell_type": "markdown",
   "metadata": {},
   "source": [
    "## Imports verses from Navi"
   ]
  },
  {
   "cell_type": "code",
   "execution_count": null,
   "metadata": {},
   "outputs": [],
   "source": [
    "navi1 = 'neviim rishonim.csv'\n",
    "navi2 = 'neviim achronim.csv'\n",
    "import csv"
   ]
  }
 ],
 "metadata": {
  "kernelspec": {
   "display_name": "Python 3",
   "language": "python",
   "name": "python3"
  },
  "language_info": {
   "codemirror_mode": {
    "name": "ipython",
    "version": 3
   },
   "file_extension": ".py",
   "mimetype": "text/x-python",
   "name": "python",
   "nbconvert_exporter": "python",
   "pygments_lexer": "ipython3",
   "version": "3.7.4"
  }
 },
 "nbformat": 4,
 "nbformat_minor": 2
}
